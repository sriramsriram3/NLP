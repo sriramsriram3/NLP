{
 "cells": [
  {
   "cell_type": "markdown",
   "id": "e9286310",
   "metadata": {},
   "source": [
    "# Stemming"
   ]
  },
  {
   "cell_type": "markdown",
   "id": "5b47d503",
   "metadata": {},
   "source": [
    "### PorterStemmer"
   ]
  },
  {
   "cell_type": "code",
   "execution_count": 1,
   "id": "10f673b6",
   "metadata": {},
   "outputs": [
    {
     "name": "stdout",
     "output_type": "stream",
     "text": [
      "running --> run\n",
      "jumps --> jump\n",
      "easily --> easili\n",
      "better --> better\n",
      "cats --> cat\n",
      "geese --> gees\n",
      "flying --> fli\n",
      "caring --> care\n",
      "studies --> studi\n",
      "swimming --> swim\n",
      "happier --> happier\n",
      "feet --> feet\n",
      "mice --> mice\n",
      "went --> went\n",
      "playing --> play\n",
      "boxes --> box\n",
      "quickly --> quickli\n",
      "stronger --> stronger\n",
      "children --> children\n",
      "cars --> car\n"
     ]
    }
   ],
   "source": [
    "from nltk.stem import PorterStemmer\n",
    "words = [\"running\",\"jumps\",\"easily\",\"better\",\"cats\",\"geese\",\"flying\",\"caring\",\"studies\",\"swimming\",\"happier\",\"feet\",\"mice\",\n",
    "    \"went\",\"playing\",\"boxes\",\"quickly\",\"stronger\",\"children\",\"cars\"]\n",
    "ps=PorterStemmer()\n",
    "for word in words:\n",
    "    print(word,\"-->\",ps.stem(word))\n"
   ]
  },
  {
   "cell_type": "markdown",
   "id": "9329b3ae",
   "metadata": {},
   "source": [
    "### RegexpStemmer"
   ]
  },
  {
   "cell_type": "code",
   "execution_count": 6,
   "id": "b43bb151",
   "metadata": {},
   "outputs": [
    {
     "name": "stdout",
     "output_type": "stream",
     "text": [
      "running --> runn\n",
      "jumps --> jumps\n",
      "easily --> easily\n",
      "better --> better\n",
      "cats --> cats\n",
      "geese --> geese\n",
      "flying --> fly\n",
      "caring --> car\n",
      "studies --> studies\n",
      "swimming --> swimm\n",
      "happier --> happier\n",
      "feet --> feet\n",
      "mice --> mice\n",
      "went --> went\n",
      "playing --> play\n",
      "boxes --> boxes\n",
      "quickly --> quickly\n",
      "stronger --> stronger\n",
      "children --> children\n",
      "cars --> cars\n"
     ]
    }
   ],
   "source": [
    "from nltk.stem import RegexpStemmer\n",
    "words = [\"running\",\"jumps\",\"easily\",\"better\",\"cats\",\"geese\",\"flying\",\"caring\",\"studies\",\"swimming\",\"happier\",\"feet\",\"mice\",\n",
    "    \"went\",\"playing\",\"boxes\",\"quickly\",\"stronger\",\"children\",\"cars\"]\n",
    "ps=RegexpStemmer('ity$ | es$ | s$ |ity$ |ing$')\n",
    "for word in words:\n",
    "    print(word,\"-->\",ps.stem(word))\n"
   ]
  },
  {
   "cell_type": "code",
   "execution_count": 10,
   "id": "9d4fead3",
   "metadata": {},
   "outputs": [
    {
     "name": "stdout",
     "output_type": "stream",
     "text": [
      "running --> run\n",
      "jumps --> jump\n",
      "easily --> easili\n",
      "better --> better\n",
      "cats --> cat\n",
      "geese --> gees\n",
      "flying --> fli\n",
      "caring --> care\n",
      "studies --> studi\n",
      "swimming --> swim\n",
      "happier --> happier\n",
      "feet --> feet\n",
      "mice --> mice\n",
      "went --> went\n",
      "playing --> play\n",
      "boxes --> box\n",
      "quickly --> quick\n",
      "stronger --> stronger\n",
      "children --> children\n",
      "cars --> car\n"
     ]
    }
   ],
   "source": [
    "from nltk.stem import SnowballStemmer\n",
    "words = [\"running\",\"jumps\",\"easily\",\"better\",\"cats\",\"geese\",\"flying\",\"caring\",\"studies\",\"swimming\",\"happier\",\"feet\",\"mice\",\n",
    "    \"went\",\"playing\",\"boxes\",\"quickly\",\"stronger\",\"children\",\"cars\"]\n",
    "ss=SnowballStemmer( language='english')\n",
    "for word in words:\n",
    "    print(word,\"-->\",ss.stem(word))\n"
   ]
  },
  {
   "cell_type": "markdown",
   "id": "b0009a32",
   "metadata": {},
   "source": [
    "The main disadvantage is it is trying to remove prifix and suffux only not other words"
   ]
  },
  {
   "cell_type": "markdown",
   "id": "a78272c5",
   "metadata": {},
   "source": [
    "# Lemmatization"
   ]
  },
  {
   "cell_type": "code",
   "execution_count": 19,
   "id": "0dba5e5c",
   "metadata": {},
   "outputs": [
    {
     "name": "stdout",
     "output_type": "stream",
     "text": [
      "running --> running\n",
      "jumps --> jump\n",
      "easily --> easily\n",
      "better --> better\n",
      "cats --> cat\n",
      "geese --> goose\n",
      "flying --> flying\n",
      "caring --> caring\n",
      "studies --> study\n",
      "swimming --> swimming\n",
      "happier --> happier\n",
      "feet --> foot\n",
      "mice --> mouse\n",
      "went --> went\n",
      "playing --> playing\n",
      "boxes --> box\n",
      "quickly --> quickly\n",
      "stronger --> stronger\n",
      "children --> child\n",
      "cars --> car\n"
     ]
    }
   ],
   "source": [
    "from nltk.stem import WordNetLemmatizer\n",
    "words = [\"running\",\"jumps\",\"easily\",\"better\",\"cats\",\"geese\",\"flying\",\"caring\",\"studies\",\"swimming\",\"happier\",\"feet\",\"mice\",\n",
    "    \"went\",\"playing\",\"boxes\",\"quickly\",\"stronger\",\"children\",\"cars\"]\n",
    "wnl=WordNetLemmatizer( )\n",
    "for word in words:\n",
    "    print(word,\"-->\",wnl.lemmatize(word))\n",
    "   "
   ]
  },
  {
   "cell_type": "markdown",
   "id": "4d37d0da",
   "metadata": {},
   "source": [
    "it will give better results when compared to the stemming"
   ]
  }
 ],
 "metadata": {
  "kernelspec": {
   "display_name": "Python 3 (ipykernel)",
   "language": "python",
   "name": "python3"
  },
  "language_info": {
   "codemirror_mode": {
    "name": "ipython",
    "version": 3
   },
   "file_extension": ".py",
   "mimetype": "text/x-python",
   "name": "python",
   "nbconvert_exporter": "python",
   "pygments_lexer": "ipython3",
   "version": "3.9.12"
  }
 },
 "nbformat": 4,
 "nbformat_minor": 5
}
