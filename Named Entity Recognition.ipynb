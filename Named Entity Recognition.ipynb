{
 "cells": [
  {
   "cell_type": "code",
   "execution_count": 13,
   "id": "bbb59015",
   "metadata": {},
   "outputs": [],
   "source": [
    "corpus=\"\"\"Virat Kohli, born on November 5, 1988, in Delhi, India, is a cricketer renowned for his exceptional batting skills \n",
    "and fierce competitiveness. Rising through the ranks, he first gained attention by leading India to victory in the 2008 ICC\n",
    "U-19 Cricket World Cup. Kohli made his international debut in 2008 against Sri Lanka and quickly established himself as a key\n",
    "player for India. Known for his aggressive style and consistency, he has set numerous records, including being one of the \n",
    "fastest to reach 8,000, 9,000, and 10,000 runs in One Day Internationals (ODIs). Kohli served as the captain of the Indian \n",
    "cricket team across all formats, leading India to several historic wins. His contributions have not only been on the field\n",
    "but also off it, as he has become a global sports icon, inspiring millions with his dedication, fitness, and work ethic.\"\"\"\n"
   ]
  },
  {
   "cell_type": "code",
   "execution_count": 14,
   "id": "27391152",
   "metadata": {},
   "outputs": [
    {
     "name": "stdout",
     "output_type": "stream",
     "text": [
      "Virat Kohli, born on November 5, 1988, in Delhi, India, is a cricketer renowned for his exceptional batting skills \n",
      "and fierce competitiveness. Rising through the ranks, he first gained attention by leading India to victory in the 2008 ICC\n",
      "U-19 Cricket World Cup. Kohli made his international debut in 2008 against Sri Lanka and quickly established himself as a key\n",
      "player for India. Known for his aggressive style and consistency, he has set numerous records, including being one of the \n",
      "fastest to reach 8,000, 9,000, and 10,000 runs in One Day Internationals (ODIs). Kohli served as the captain of the Indian \n",
      "cricket team across all formats, leading India to several historic wins. His contributions have not only been on the field\n",
      "but also off it, as he has become a global sports icon, inspiring millions with his dedication, fitness, and work ethic.\n"
     ]
    }
   ],
   "source": [
    "print(corpus)"
   ]
  },
  {
   "cell_type": "markdown",
   "id": "2bd92b27",
   "metadata": {},
   "source": [
    "# Name Entity Recognition\n"
   ]
  },
  {
   "cell_type": "code",
   "execution_count": 17,
   "id": "5c261025",
   "metadata": {},
   "outputs": [
    {
     "data": {
      "text/plain": [
       "['virat',\n",
       " 'kohli',\n",
       " ',',\n",
       " 'born',\n",
       " 'on',\n",
       " 'november',\n",
       " '5',\n",
       " ',',\n",
       " '1988',\n",
       " ',',\n",
       " 'in',\n",
       " 'delhi',\n",
       " ',',\n",
       " 'india',\n",
       " ',',\n",
       " 'is',\n",
       " 'a',\n",
       " 'cricketer',\n",
       " 'renowned',\n",
       " 'for',\n",
       " 'his',\n",
       " 'exceptional',\n",
       " 'batting',\n",
       " 'skills',\n",
       " 'and',\n",
       " 'fierce',\n",
       " 'competitiveness',\n",
       " '.',\n",
       " 'rising',\n",
       " 'through',\n",
       " 'the',\n",
       " 'ranks',\n",
       " ',',\n",
       " 'he',\n",
       " 'first',\n",
       " 'gained',\n",
       " 'attention',\n",
       " 'by',\n",
       " 'leading',\n",
       " 'india',\n",
       " 'to',\n",
       " 'victory',\n",
       " 'in',\n",
       " 'the',\n",
       " '2008',\n",
       " 'icc',\n",
       " 'u-19',\n",
       " 'cricket',\n",
       " 'world',\n",
       " 'cup',\n",
       " '.',\n",
       " 'kohli',\n",
       " 'made',\n",
       " 'his',\n",
       " 'international',\n",
       " 'debut',\n",
       " 'in',\n",
       " '2008',\n",
       " 'against',\n",
       " 'sri',\n",
       " 'lanka',\n",
       " 'and',\n",
       " 'quickly',\n",
       " 'established',\n",
       " 'himself',\n",
       " 'as',\n",
       " 'a',\n",
       " 'key',\n",
       " 'player',\n",
       " 'for',\n",
       " 'india',\n",
       " '.',\n",
       " 'known',\n",
       " 'for',\n",
       " 'his',\n",
       " 'aggressive',\n",
       " 'style',\n",
       " 'and',\n",
       " 'consistency',\n",
       " ',',\n",
       " 'he',\n",
       " 'has',\n",
       " 'set',\n",
       " 'numerous',\n",
       " 'records',\n",
       " ',',\n",
       " 'including',\n",
       " 'being',\n",
       " 'one',\n",
       " 'of',\n",
       " 'the',\n",
       " 'fastest',\n",
       " 'to',\n",
       " 'reach',\n",
       " '8,000',\n",
       " ',',\n",
       " '9,000',\n",
       " ',',\n",
       " 'and',\n",
       " '10,000',\n",
       " 'runs',\n",
       " 'in',\n",
       " 'one',\n",
       " 'day',\n",
       " 'internationals',\n",
       " '(',\n",
       " 'odis',\n",
       " ')',\n",
       " '.',\n",
       " 'kohli',\n",
       " 'served',\n",
       " 'as',\n",
       " 'the',\n",
       " 'captain',\n",
       " 'of',\n",
       " 'the',\n",
       " 'indian',\n",
       " 'cricket',\n",
       " 'team',\n",
       " 'across',\n",
       " 'all',\n",
       " 'formats',\n",
       " ',',\n",
       " 'leading',\n",
       " 'india',\n",
       " 'to',\n",
       " 'several',\n",
       " 'historic',\n",
       " 'wins',\n",
       " '.',\n",
       " 'his',\n",
       " 'contributions',\n",
       " 'have',\n",
       " 'not',\n",
       " 'only',\n",
       " 'been',\n",
       " 'on',\n",
       " 'the',\n",
       " 'field',\n",
       " 'but',\n",
       " 'also',\n",
       " 'off',\n",
       " 'it',\n",
       " ',',\n",
       " 'as',\n",
       " 'he',\n",
       " 'has',\n",
       " 'become',\n",
       " 'a',\n",
       " 'global',\n",
       " 'sports',\n",
       " 'icon',\n",
       " ',',\n",
       " 'inspiring',\n",
       " 'millions',\n",
       " 'with',\n",
       " 'his',\n",
       " 'dedication',\n",
       " ',',\n",
       " 'fitness',\n",
       " ',',\n",
       " 'and',\n",
       " 'work',\n",
       " 'ethic',\n",
       " '.']"
      ]
     },
     "execution_count": 17,
     "metadata": {},
     "output_type": "execute_result"
    }
   ],
   "source": [
    "import nltk\n",
    "words=nltk.word_tokenize(corpus.lower())\n",
    "words"
   ]
  },
  {
   "cell_type": "code",
   "execution_count": 6,
   "id": "a9af0a30",
   "metadata": {},
   "outputs": [
    {
     "name": "stderr",
     "output_type": "stream",
     "text": [
      "[nltk_data] Downloading package maxent_ne_chunker to\n",
      "[nltk_data]     C:\\Users\\anil.nagamunthala\\AppData\\Roaming\\nltk_data..\n",
      "[nltk_data]     .\n",
      "[nltk_data]   Unzipping chunkers\\maxent_ne_chunker.zip.\n"
     ]
    },
    {
     "data": {
      "text/plain": [
       "True"
      ]
     },
     "execution_count": 6,
     "metadata": {},
     "output_type": "execute_result"
    }
   ],
   "source": [
    "nltk.download('maxent_ne_chunker')"
   ]
  },
  {
   "cell_type": "code",
   "execution_count": 19,
   "id": "17bb723f",
   "metadata": {},
   "outputs": [
    {
     "data": {
      "text/plain": [
       "[('virat', 'NN'),\n",
       " ('kohli', 'NN'),\n",
       " (',', ','),\n",
       " ('born', 'VBN'),\n",
       " ('on', 'IN'),\n",
       " ('november', 'JJ'),\n",
       " ('5', 'CD'),\n",
       " (',', ','),\n",
       " ('1988', 'CD'),\n",
       " (',', ','),\n",
       " ('in', 'IN'),\n",
       " ('delhi', 'NN'),\n",
       " (',', ','),\n",
       " ('india', 'NN'),\n",
       " (',', ','),\n",
       " ('is', 'VBZ'),\n",
       " ('a', 'DT'),\n",
       " ('cricketer', 'NN'),\n",
       " ('renowned', 'VBN'),\n",
       " ('for', 'IN'),\n",
       " ('his', 'PRP$'),\n",
       " ('exceptional', 'JJ'),\n",
       " ('batting', 'NN'),\n",
       " ('skills', 'NNS'),\n",
       " ('and', 'CC'),\n",
       " ('fierce', 'JJ'),\n",
       " ('competitiveness', 'NN'),\n",
       " ('.', '.'),\n",
       " ('rising', 'VBG'),\n",
       " ('through', 'IN'),\n",
       " ('the', 'DT'),\n",
       " ('ranks', 'NNS'),\n",
       " (',', ','),\n",
       " ('he', 'PRP'),\n",
       " ('first', 'RB'),\n",
       " ('gained', 'VBD'),\n",
       " ('attention', 'NN'),\n",
       " ('by', 'IN'),\n",
       " ('leading', 'VBG'),\n",
       " ('india', 'NN'),\n",
       " ('to', 'TO'),\n",
       " ('victory', 'NN'),\n",
       " ('in', 'IN'),\n",
       " ('the', 'DT'),\n",
       " ('2008', 'CD'),\n",
       " ('icc', 'JJ'),\n",
       " ('u-19', 'JJ'),\n",
       " ('cricket', 'NN'),\n",
       " ('world', 'NN'),\n",
       " ('cup', 'NN'),\n",
       " ('.', '.'),\n",
       " ('kohli', 'NN'),\n",
       " ('made', 'VBD'),\n",
       " ('his', 'PRP$'),\n",
       " ('international', 'JJ'),\n",
       " ('debut', 'NN'),\n",
       " ('in', 'IN'),\n",
       " ('2008', 'CD'),\n",
       " ('against', 'IN'),\n",
       " ('sri', 'JJ'),\n",
       " ('lanka', 'NN'),\n",
       " ('and', 'CC'),\n",
       " ('quickly', 'RB'),\n",
       " ('established', 'VBD'),\n",
       " ('himself', 'PRP'),\n",
       " ('as', 'IN'),\n",
       " ('a', 'DT'),\n",
       " ('key', 'NN'),\n",
       " ('player', 'NN'),\n",
       " ('for', 'IN'),\n",
       " ('india', 'NN'),\n",
       " ('.', '.'),\n",
       " ('known', 'VBN'),\n",
       " ('for', 'IN'),\n",
       " ('his', 'PRP$'),\n",
       " ('aggressive', 'JJ'),\n",
       " ('style', 'NN'),\n",
       " ('and', 'CC'),\n",
       " ('consistency', 'NN'),\n",
       " (',', ','),\n",
       " ('he', 'PRP'),\n",
       " ('has', 'VBZ'),\n",
       " ('set', 'VBN'),\n",
       " ('numerous', 'JJ'),\n",
       " ('records', 'NNS'),\n",
       " (',', ','),\n",
       " ('including', 'VBG'),\n",
       " ('being', 'VBG'),\n",
       " ('one', 'CD'),\n",
       " ('of', 'IN'),\n",
       " ('the', 'DT'),\n",
       " ('fastest', 'JJS'),\n",
       " ('to', 'TO'),\n",
       " ('reach', 'VB'),\n",
       " ('8,000', 'CD'),\n",
       " (',', ','),\n",
       " ('9,000', 'CD'),\n",
       " (',', ','),\n",
       " ('and', 'CC'),\n",
       " ('10,000', 'CD'),\n",
       " ('runs', 'NNS'),\n",
       " ('in', 'IN'),\n",
       " ('one', 'CD'),\n",
       " ('day', 'NN'),\n",
       " ('internationals', 'NNS'),\n",
       " ('(', '('),\n",
       " ('odis', 'NN'),\n",
       " (')', ')'),\n",
       " ('.', '.'),\n",
       " ('kohli', 'VB'),\n",
       " ('served', 'VBD'),\n",
       " ('as', 'IN'),\n",
       " ('the', 'DT'),\n",
       " ('captain', 'NN'),\n",
       " ('of', 'IN'),\n",
       " ('the', 'DT'),\n",
       " ('indian', 'JJ'),\n",
       " ('cricket', 'NN'),\n",
       " ('team', 'NN'),\n",
       " ('across', 'IN'),\n",
       " ('all', 'DT'),\n",
       " ('formats', 'NNS'),\n",
       " (',', ','),\n",
       " ('leading', 'VBG'),\n",
       " ('india', 'NN'),\n",
       " ('to', 'TO'),\n",
       " ('several', 'JJ'),\n",
       " ('historic', 'JJ'),\n",
       " ('wins', 'NNS'),\n",
       " ('.', '.'),\n",
       " ('his', 'PRP$'),\n",
       " ('contributions', 'NNS'),\n",
       " ('have', 'VBP'),\n",
       " ('not', 'RB'),\n",
       " ('only', 'RB'),\n",
       " ('been', 'VBN'),\n",
       " ('on', 'IN'),\n",
       " ('the', 'DT'),\n",
       " ('field', 'NN'),\n",
       " ('but', 'CC'),\n",
       " ('also', 'RB'),\n",
       " ('off', 'IN'),\n",
       " ('it', 'PRP'),\n",
       " (',', ','),\n",
       " ('as', 'IN'),\n",
       " ('he', 'PRP'),\n",
       " ('has', 'VBZ'),\n",
       " ('become', 'VBN'),\n",
       " ('a', 'DT'),\n",
       " ('global', 'JJ'),\n",
       " ('sports', 'NNS'),\n",
       " ('icon', 'NN'),\n",
       " (',', ','),\n",
       " ('inspiring', 'VBG'),\n",
       " ('millions', 'NNS'),\n",
       " ('with', 'IN'),\n",
       " ('his', 'PRP$'),\n",
       " ('dedication', 'NN'),\n",
       " (',', ','),\n",
       " ('fitness', 'NN'),\n",
       " (',', ','),\n",
       " ('and', 'CC'),\n",
       " ('work', 'NN'),\n",
       " ('ethic', 'RB'),\n",
       " ('.', '.')]"
      ]
     },
     "execution_count": 19,
     "metadata": {},
     "output_type": "execute_result"
    }
   ],
   "source": [
    "pos_words=nltk.pos_tag(words)\n",
    "pos_words"
   ]
  },
  {
   "cell_type": "code",
   "execution_count": 21,
   "id": "f273ce5a",
   "metadata": {},
   "outputs": [
    {
     "name": "stderr",
     "output_type": "stream",
     "text": [
      "[nltk_data] Downloading package words to\n",
      "[nltk_data]     C:\\Users\\anil.nagamunthala\\AppData\\Roaming\\nltk_data..\n",
      "[nltk_data]     .\n",
      "[nltk_data]   Unzipping corpora\\words.zip.\n"
     ]
    },
    {
     "data": {
      "text/plain": [
       "True"
      ]
     },
     "execution_count": 21,
     "metadata": {},
     "output_type": "execute_result"
    }
   ],
   "source": [
    "nltk.download('words')"
   ]
  },
  {
   "cell_type": "code",
   "execution_count": 25,
   "id": "ecccbcb3",
   "metadata": {},
   "outputs": [
    {
     "name": "stdout",
     "output_type": "stream",
     "text": [
      "Defaulting to user installation because normal site-packages is not writeable\n",
      "Collecting svgling\n",
      "  Downloading svgling-0.4.0-py3-none-any.whl (23 kB)\n",
      "Note: you may need to restart the kernel to use updated packages.Collecting svgwrite\n",
      "  Downloading svgwrite-1.4.3-py3-none-any.whl (67 kB)\n",
      "Installing collected packages: svgwrite, svgling\n",
      "Successfully installed svgling-0.4.0 svgwrite-1.4.3\n",
      "\n"
     ]
    }
   ],
   "source": [
    "pip install svgling\n"
   ]
  },
  {
   "cell_type": "code",
   "execution_count": 23,
   "id": "5cc5fe1e",
   "metadata": {
    "scrolled": true
   },
   "outputs": [
    {
     "ename": "ModuleNotFoundError",
     "evalue": "No module named 'svgling'",
     "output_type": "error",
     "traceback": [
      "\u001b[1;31m---------------------------------------------------------------------------\u001b[0m",
      "\u001b[1;31mModuleNotFoundError\u001b[0m                       Traceback (most recent call last)",
      "File \u001b[1;32mC:\\ProgramData\\Anaconda3\\lib\\site-packages\\IPython\\core\\formatters.py:343\u001b[0m, in \u001b[0;36mBaseFormatter.__call__\u001b[1;34m(self, obj)\u001b[0m\n\u001b[0;32m    341\u001b[0m     method \u001b[38;5;241m=\u001b[39m get_real_method(obj, \u001b[38;5;28mself\u001b[39m\u001b[38;5;241m.\u001b[39mprint_method)\n\u001b[0;32m    342\u001b[0m     \u001b[38;5;28;01mif\u001b[39;00m method \u001b[38;5;129;01mis\u001b[39;00m \u001b[38;5;129;01mnot\u001b[39;00m \u001b[38;5;28;01mNone\u001b[39;00m:\n\u001b[1;32m--> 343\u001b[0m         \u001b[38;5;28;01mreturn\u001b[39;00m \u001b[43mmethod\u001b[49m\u001b[43m(\u001b[49m\u001b[43m)\u001b[49m\n\u001b[0;32m    344\u001b[0m     \u001b[38;5;28;01mreturn\u001b[39;00m \u001b[38;5;28;01mNone\u001b[39;00m\n\u001b[0;32m    345\u001b[0m \u001b[38;5;28;01melse\u001b[39;00m:\n",
      "File \u001b[1;32mC:\\ProgramData\\Anaconda3\\lib\\site-packages\\nltk\\tree\\tree.py:783\u001b[0m, in \u001b[0;36mTree._repr_svg_\u001b[1;34m(self)\u001b[0m\n\u001b[0;32m    782\u001b[0m \u001b[38;5;28;01mdef\u001b[39;00m \u001b[38;5;21m_repr_svg_\u001b[39m(\u001b[38;5;28mself\u001b[39m):\n\u001b[1;32m--> 783\u001b[0m     \u001b[38;5;28;01mfrom\u001b[39;00m \u001b[38;5;21;01msvgling\u001b[39;00m \u001b[38;5;28;01mimport\u001b[39;00m draw_tree\n\u001b[0;32m    785\u001b[0m     \u001b[38;5;28;01mreturn\u001b[39;00m draw_tree(\u001b[38;5;28mself\u001b[39m)\u001b[38;5;241m.\u001b[39m_repr_svg_()\n",
      "\u001b[1;31mModuleNotFoundError\u001b[0m: No module named 'svgling'"
     ]
    },
    {
     "data": {
      "text/plain": [
       "Tree('S', [('virat', 'NN'), ('kohli', 'NN'), (',', ','), ('born', 'VBN'), ('on', 'IN'), ('november', 'JJ'), ('5', 'CD'), (',', ','), ('1988', 'CD'), (',', ','), ('in', 'IN'), ('delhi', 'NN'), (',', ','), ('india', 'NN'), (',', ','), ('is', 'VBZ'), ('a', 'DT'), ('cricketer', 'NN'), ('renowned', 'VBN'), ('for', 'IN'), ('his', 'PRP$'), ('exceptional', 'JJ'), ('batting', 'NN'), ('skills', 'NNS'), ('and', 'CC'), ('fierce', 'JJ'), ('competitiveness', 'NN'), ('.', '.'), ('rising', 'VBG'), ('through', 'IN'), ('the', 'DT'), ('ranks', 'NNS'), (',', ','), ('he', 'PRP'), ('first', 'RB'), ('gained', 'VBD'), ('attention', 'NN'), ('by', 'IN'), ('leading', 'VBG'), ('india', 'NN'), ('to', 'TO'), ('victory', 'NN'), ('in', 'IN'), ('the', 'DT'), ('2008', 'CD'), ('icc', 'JJ'), ('u-19', 'JJ'), ('cricket', 'NN'), ('world', 'NN'), ('cup', 'NN'), ('.', '.'), ('kohli', 'NN'), ('made', 'VBD'), ('his', 'PRP$'), ('international', 'JJ'), ('debut', 'NN'), ('in', 'IN'), ('2008', 'CD'), ('against', 'IN'), ('sri', 'JJ'), ('lanka', 'NN'), ('and', 'CC'), ('quickly', 'RB'), ('established', 'VBD'), ('himself', 'PRP'), ('as', 'IN'), ('a', 'DT'), ('key', 'NN'), ('player', 'NN'), ('for', 'IN'), ('india', 'NN'), ('.', '.'), ('known', 'VBN'), ('for', 'IN'), ('his', 'PRP$'), ('aggressive', 'JJ'), ('style', 'NN'), ('and', 'CC'), ('consistency', 'NN'), (',', ','), ('he', 'PRP'), ('has', 'VBZ'), ('set', 'VBN'), ('numerous', 'JJ'), ('records', 'NNS'), (',', ','), ('including', 'VBG'), ('being', 'VBG'), ('one', 'CD'), ('of', 'IN'), ('the', 'DT'), ('fastest', 'JJS'), ('to', 'TO'), ('reach', 'VB'), ('8,000', 'CD'), (',', ','), ('9,000', 'CD'), (',', ','), ('and', 'CC'), ('10,000', 'CD'), ('runs', 'NNS'), ('in', 'IN'), ('one', 'CD'), ('day', 'NN'), ('internationals', 'NNS'), ('(', '('), ('odis', 'NN'), (')', ')'), ('.', '.'), ('kohli', 'VB'), ('served', 'VBD'), ('as', 'IN'), ('the', 'DT'), ('captain', 'NN'), ('of', 'IN'), ('the', 'DT'), ('indian', 'JJ'), ('cricket', 'NN'), ('team', 'NN'), ('across', 'IN'), ('all', 'DT'), ('formats', 'NNS'), (',', ','), ('leading', 'VBG'), ('india', 'NN'), ('to', 'TO'), ('several', 'JJ'), ('historic', 'JJ'), ('wins', 'NNS'), ('.', '.'), ('his', 'PRP$'), ('contributions', 'NNS'), ('have', 'VBP'), ('not', 'RB'), ('only', 'RB'), ('been', 'VBN'), ('on', 'IN'), ('the', 'DT'), ('field', 'NN'), ('but', 'CC'), ('also', 'RB'), ('off', 'IN'), ('it', 'PRP'), (',', ','), ('as', 'IN'), ('he', 'PRP'), ('has', 'VBZ'), ('become', 'VBN'), ('a', 'DT'), ('global', 'JJ'), ('sports', 'NNS'), ('icon', 'NN'), (',', ','), ('inspiring', 'VBG'), ('millions', 'NNS'), ('with', 'IN'), ('his', 'PRP$'), ('dedication', 'NN'), (',', ','), ('fitness', 'NN'), (',', ','), ('and', 'CC'), ('work', 'NN'), ('ethic', 'RB'), ('.', '.')])"
      ]
     },
     "execution_count": 23,
     "metadata": {},
     "output_type": "execute_result"
    }
   ],
   "source": [
    "ner_words=nltk.ne_chunk(pos_words)\n",
    "ner_words"
   ]
  },
  {
   "cell_type": "code",
   "execution_count": 24,
   "id": "7de08a38",
   "metadata": {},
   "outputs": [],
   "source": [
    "ner_words=nltk.ne_chunk(pos_words).draw()"
   ]
  },
  {
   "cell_type": "code",
   "execution_count": null,
   "id": "62b26aef",
   "metadata": {},
   "outputs": [],
   "source": []
  }
 ],
 "metadata": {
  "kernelspec": {
   "display_name": "Python 3 (ipykernel)",
   "language": "python",
   "name": "python3"
  },
  "language_info": {
   "codemirror_mode": {
    "name": "ipython",
    "version": 3
   },
   "file_extension": ".py",
   "mimetype": "text/x-python",
   "name": "python",
   "nbconvert_exporter": "python",
   "pygments_lexer": "ipython3",
   "version": "3.9.12"
  }
 },
 "nbformat": 4,
 "nbformat_minor": 5
}
