{
 "cells": [
  {
   "cell_type": "code",
   "execution_count": 12,
   "id": "f2ea1356",
   "metadata": {},
   "outputs": [],
   "source": [
    "corpus=\"\"\"Virat Kohli is an Indian cricketer widely regarded as one of the best batsmen of his generation. \n",
    "Born on November 5, 1988, in Delhi, Kohli made his international debut in 2008 and quickly established himself \n",
    "as a key player in the Indian cricket team. Known for his aggressive batting style, consistency, and fierce determination, \n",
    "he has broken numerous records in both One Day Internationals (ODIs) and Test cricket. Kohli has also served as the captain \n",
    "of the Indian team, leading them to significant victories across all formats. Off the field, he is admired for his fitness \n",
    "regimen, philanthropic efforts, and strong social media presence. His passion and commitment to the sport have made him a \n",
    "global icon in the world of cricket.\"\"\""
   ]
  },
  {
   "cell_type": "code",
   "execution_count": 13,
   "id": "28809fee",
   "metadata": {},
   "outputs": [
    {
     "name": "stdout",
     "output_type": "stream",
     "text": [
      "Virat Kohli is an Indian cricketer widely regarded as one of the best batsmen of his generation. \n",
      "Born on November 5, 1988, in Delhi, Kohli made his international debut in 2008 and quickly established himself \n",
      "as a key player in the Indian cricket team. Known for his aggressive batting style, consistency, and fierce determination, \n",
      "he has broken numerous records in both One Day Internationals (ODIs) and Test cricket. Kohli has also served as the captain \n",
      "of the Indian team, leading them to significant victories across all formats. Off the field, he is admired for his fitness \n",
      "regimen, philanthropic efforts, and strong social media presence. His passion and commitment to the sport have made him a \n",
      "global icon in the world of cricket.\n"
     ]
    }
   ],
   "source": [
    "print(corpus)"
   ]
  },
  {
   "cell_type": "code",
   "execution_count": 14,
   "id": "84fd3bf9",
   "metadata": {},
   "outputs": [
    {
     "name": "stdout",
     "output_type": "stream",
     "text": [
      "['Virat', 'Kohli', 'is', 'an', 'Indian', 'cricketer', 'widely', 'regarded', 'as', 'one', 'of', 'the', 'best', 'batsmen', 'of', 'his', 'generation', '.', 'Born', 'on', 'November', '5', ',', '1988', ',', 'in', 'Delhi', ',', 'Kohli', 'made', 'his', 'international', 'debut', 'in', '2008', 'and', 'quickly', 'established', 'himself', 'as', 'a', 'key', 'player', 'in', 'the', 'Indian', 'cricket', 'team', '.', 'Known', 'for', 'his', 'aggressive', 'batting', 'style', ',', 'consistency', ',', 'and', 'fierce', 'determination', ',', 'he', 'has', 'broken', 'numerous', 'records', 'in', 'both', 'One', 'Day', 'Internationals', '(', 'ODIs', ')', 'and', 'Test', 'cricket', '.', 'Kohli', 'has', 'also', 'served', 'as', 'the', 'captain', 'of', 'the', 'Indian', 'team', ',', 'leading', 'them', 'to', 'significant', 'victories', 'across', 'all', 'formats', '.', 'Off', 'the', 'field', ',', 'he', 'is', 'admired', 'for', 'his', 'fitness', 'regimen', ',', 'philanthropic', 'efforts', ',', 'and', 'strong', 'social', 'media', 'presence', '.', 'His', 'passion', 'and', 'commitment', 'to', 'the', 'sport', 'have', 'made', 'him', 'a', 'global', 'icon', 'in', 'the', 'world', 'of', 'cricket', '.']\n"
     ]
    }
   ],
   "source": [
    "#convert the corpus into words\n",
    "import nltk\n",
    "words=nltk.word_tokenize(corpus)\n",
    "print(words)"
   ]
  },
  {
   "cell_type": "code",
   "execution_count": 15,
   "id": "0b658e1c",
   "metadata": {},
   "outputs": [
    {
     "name": "stderr",
     "output_type": "stream",
     "text": [
      "[nltk_data] Downloading package averaged_perceptron_tagger to\n",
      "[nltk_data]     C:\\Users\\anil.nagamunthala\\AppData\\Roaming\\nltk_data..\n",
      "[nltk_data]     .\n",
      "[nltk_data]   Package averaged_perceptron_tagger is already up-to-\n",
      "[nltk_data]       date!\n"
     ]
    },
    {
     "data": {
      "text/plain": [
       "True"
      ]
     },
     "execution_count": 15,
     "metadata": {},
     "output_type": "execute_result"
    }
   ],
   "source": [
    "nltk.download('averaged_perceptron_tagger')"
   ]
  },
  {
   "cell_type": "code",
   "execution_count": 7,
   "id": "d0612dcb",
   "metadata": {},
   "outputs": [
    {
     "data": {
      "text/plain": [
       "[('Virat', 'NNP'),\n",
       " ('Kohli', 'NNP'),\n",
       " ('is', 'VBZ'),\n",
       " ('an', 'DT'),\n",
       " ('Indian', 'JJ'),\n",
       " ('cricketer', 'NN'),\n",
       " ('widely', 'RB'),\n",
       " ('regarded', 'VBD'),\n",
       " ('as', 'IN'),\n",
       " ('one', 'CD'),\n",
       " ('of', 'IN'),\n",
       " ('the', 'DT'),\n",
       " ('best', 'JJS'),\n",
       " ('batsmen', 'NNS'),\n",
       " ('of', 'IN'),\n",
       " ('his', 'PRP$'),\n",
       " ('generation', 'NN'),\n",
       " ('.', '.'),\n",
       " ('Born', 'VBN'),\n",
       " ('on', 'IN'),\n",
       " ('November', 'NNP'),\n",
       " ('5', 'CD'),\n",
       " (',', ','),\n",
       " ('1988', 'CD'),\n",
       " (',', ','),\n",
       " ('in', 'IN'),\n",
       " ('Delhi', 'NNP'),\n",
       " (',', ','),\n",
       " ('Kohli', 'NNP'),\n",
       " ('made', 'VBD'),\n",
       " ('his', 'PRP$'),\n",
       " ('international', 'JJ'),\n",
       " ('debut', 'NN'),\n",
       " ('in', 'IN'),\n",
       " ('2008', 'CD'),\n",
       " ('and', 'CC'),\n",
       " ('quickly', 'RB'),\n",
       " ('established', 'VBD'),\n",
       " ('himself', 'PRP'),\n",
       " ('as', 'IN'),\n",
       " ('a', 'DT'),\n",
       " ('key', 'JJ'),\n",
       " ('player', 'NN'),\n",
       " ('in', 'IN'),\n",
       " ('the', 'DT'),\n",
       " ('Indian', 'JJ'),\n",
       " ('cricket', 'NN'),\n",
       " ('team', 'NN'),\n",
       " ('.', '.'),\n",
       " ('Known', 'VBN'),\n",
       " ('for', 'IN'),\n",
       " ('his', 'PRP$'),\n",
       " ('aggressive', 'JJ'),\n",
       " ('batting', 'NN'),\n",
       " ('style', 'NN'),\n",
       " (',', ','),\n",
       " ('consistency', 'NN'),\n",
       " (',', ','),\n",
       " ('and', 'CC'),\n",
       " ('fierce', 'JJ'),\n",
       " ('determination', 'NN'),\n",
       " (',', ','),\n",
       " ('he', 'PRP'),\n",
       " ('has', 'VBZ'),\n",
       " ('broken', 'VBN'),\n",
       " ('numerous', 'JJ'),\n",
       " ('records', 'NNS'),\n",
       " ('in', 'IN'),\n",
       " ('both', 'DT'),\n",
       " ('One', 'NNP'),\n",
       " ('Day', 'NNP'),\n",
       " ('Internationals', 'NNP'),\n",
       " ('(', '('),\n",
       " ('ODIs', 'NNP'),\n",
       " (')', ')'),\n",
       " ('and', 'CC'),\n",
       " ('Test', 'NNP'),\n",
       " ('cricket', 'NN'),\n",
       " ('.', '.'),\n",
       " ('Kohli', 'NNP'),\n",
       " ('has', 'VBZ'),\n",
       " ('also', 'RB'),\n",
       " ('served', 'VBN'),\n",
       " ('as', 'IN'),\n",
       " ('the', 'DT'),\n",
       " ('captain', 'NN'),\n",
       " ('of', 'IN'),\n",
       " ('the', 'DT'),\n",
       " ('Indian', 'JJ'),\n",
       " ('team', 'NN'),\n",
       " (',', ','),\n",
       " ('leading', 'VBG'),\n",
       " ('them', 'PRP'),\n",
       " ('to', 'TO'),\n",
       " ('significant', 'JJ'),\n",
       " ('victories', 'NNS'),\n",
       " ('across', 'IN'),\n",
       " ('all', 'DT'),\n",
       " ('formats', 'NNS'),\n",
       " ('.', '.'),\n",
       " ('Off', 'IN'),\n",
       " ('the', 'DT'),\n",
       " ('field', 'NN'),\n",
       " (',', ','),\n",
       " ('he', 'PRP'),\n",
       " ('is', 'VBZ'),\n",
       " ('admired', 'VBN'),\n",
       " ('for', 'IN'),\n",
       " ('his', 'PRP$'),\n",
       " ('fitness', 'NN'),\n",
       " ('regimen', 'NNS'),\n",
       " (',', ','),\n",
       " ('philanthropic', 'NN'),\n",
       " ('efforts', 'NNS'),\n",
       " (',', ','),\n",
       " ('and', 'CC'),\n",
       " ('strong', 'JJ'),\n",
       " ('social', 'JJ'),\n",
       " ('media', 'NNS'),\n",
       " ('presence', 'NN'),\n",
       " ('.', '.'),\n",
       " ('His', 'PRP$'),\n",
       " ('passion', 'NN'),\n",
       " ('and', 'CC'),\n",
       " ('commitment', 'NN'),\n",
       " ('to', 'TO'),\n",
       " ('the', 'DT'),\n",
       " ('sport', 'NN'),\n",
       " ('have', 'VBP'),\n",
       " ('made', 'VBN'),\n",
       " ('him', 'PRP'),\n",
       " ('a', 'DT'),\n",
       " ('global', 'JJ'),\n",
       " ('icon', 'NN'),\n",
       " ('in', 'IN'),\n",
       " ('the', 'DT'),\n",
       " ('world', 'NN'),\n",
       " ('of', 'IN'),\n",
       " ('cricket', 'NN'),\n",
       " ('.', '.')]"
      ]
     },
     "execution_count": 7,
     "metadata": {},
     "output_type": "execute_result"
    }
   ],
   "source": [
    "#now we convert it into parts of speech\n",
    "pos_words=nltk.pos_tag(words)\n",
    "pos_words"
   ]
  },
  {
   "cell_type": "code",
   "execution_count": 16,
   "id": "109cabe0",
   "metadata": {},
   "outputs": [],
   "source": [
    "corpus=\"\"\"NLP tasks involve a wide range of activities that help computers understand and manipulate human language. \n",
    "Some common tasks include text classification, where text is categorized into predefined labels; sentiment analysis,\n",
    "which identifies the emotional tone of text; named entity recognition (NER), which detects and classifies proper nouns \n",
    "like names and locations; and machine translation, which automatically translates text from one language to another.\"\"\""
   ]
  },
  {
   "cell_type": "code",
   "execution_count": 17,
   "id": "9a3dd008",
   "metadata": {},
   "outputs": [
    {
     "name": "stdout",
     "output_type": "stream",
     "text": [
      "NLP tasks involve a wide range of activities that help computers understand and manipulate human language. \n",
      "Some common tasks include text classification, where text is categorized into predefined labels; sentiment analysis,\n",
      "which identifies the emotional tone of text; named entity recognition (NER), which detects and classifies proper nouns \n",
      "like names and locations; and machine translation, which automatically translates text from one language to another.\n"
     ]
    }
   ],
   "source": [
    "print(corpus)"
   ]
  },
  {
   "cell_type": "code",
   "execution_count": 18,
   "id": "244f44d7",
   "metadata": {},
   "outputs": [
    {
     "data": {
      "text/plain": [
       "[('NLP', 'NNP'),\n",
       " ('tasks', 'NNS'),\n",
       " ('involve', 'VBP'),\n",
       " ('a', 'DT'),\n",
       " ('wide', 'JJ'),\n",
       " ('range', 'NN'),\n",
       " ('of', 'IN'),\n",
       " ('activities', 'NNS'),\n",
       " ('that', 'WDT'),\n",
       " ('help', 'VBP'),\n",
       " ('computers', 'NNS'),\n",
       " ('understand', 'VB'),\n",
       " ('and', 'CC'),\n",
       " ('manipulate', 'VB'),\n",
       " ('human', 'JJ'),\n",
       " ('language.', 'CC'),\n",
       " ('Some', 'DT'),\n",
       " ('common', 'JJ'),\n",
       " ('tasks', 'NNS'),\n",
       " ('include', 'VBP'),\n",
       " ('text', 'JJ'),\n",
       " ('classification,', 'NN'),\n",
       " ('where', 'WRB'),\n",
       " ('text', 'NN'),\n",
       " ('is', 'VBZ'),\n",
       " ('categorized', 'VBN'),\n",
       " ('into', 'IN'),\n",
       " ('predefined', 'VBN'),\n",
       " ('labels;', 'JJ'),\n",
       " ('sentiment', 'NN'),\n",
       " ('analysis,', 'NN'),\n",
       " ('which', 'WDT'),\n",
       " ('identifies', 'VBZ'),\n",
       " ('the', 'DT'),\n",
       " ('emotional', 'JJ'),\n",
       " ('tone', 'NN'),\n",
       " ('of', 'IN'),\n",
       " ('text;', 'NN'),\n",
       " ('named', 'VBN'),\n",
       " ('entity', 'NN'),\n",
       " ('recognition', 'NN'),\n",
       " ('(NER),', 'NNP'),\n",
       " ('which', 'WDT'),\n",
       " ('detects', 'VBZ'),\n",
       " ('and', 'CC'),\n",
       " ('classifies', 'NNS'),\n",
       " ('proper', 'VBP'),\n",
       " ('nouns', 'NNS'),\n",
       " ('like', 'IN'),\n",
       " ('names', 'NNS'),\n",
       " ('and', 'CC'),\n",
       " ('locations;', 'NN'),\n",
       " ('and', 'CC'),\n",
       " ('machine', 'NN'),\n",
       " ('translation,', 'NN'),\n",
       " ('which', 'WDT'),\n",
       " ('automatically', 'RB'),\n",
       " ('translates', 'VBZ'),\n",
       " ('text', 'NN'),\n",
       " ('from', 'IN'),\n",
       " ('one', 'CD'),\n",
       " ('language', 'NN'),\n",
       " ('to', 'TO'),\n",
       " ('another.', 'VB')]"
      ]
     },
     "execution_count": 18,
     "metadata": {},
     "output_type": "execute_result"
    }
   ],
   "source": [
    "pos_words1=nltk.pos_tag(corpus.split())\n",
    "pos_words1"
   ]
  },
  {
   "cell_type": "code",
   "execution_count": 19,
   "id": "53920863",
   "metadata": {},
   "outputs": [
    {
     "data": {
      "text/plain": [
       "True"
      ]
     },
     "execution_count": 19,
     "metadata": {},
     "output_type": "execute_result"
    }
   ],
   "source": [
    "pos_words==pos_words1"
   ]
  },
  {
   "cell_type": "code",
   "execution_count": null,
   "id": "57f8a55c",
   "metadata": {},
   "outputs": [],
   "source": []
  }
 ],
 "metadata": {
  "kernelspec": {
   "display_name": "Python 3 (ipykernel)",
   "language": "python",
   "name": "python3"
  },
  "language_info": {
   "codemirror_mode": {
    "name": "ipython",
    "version": 3
   },
   "file_extension": ".py",
   "mimetype": "text/x-python",
   "name": "python",
   "nbconvert_exporter": "python",
   "pygments_lexer": "ipython3",
   "version": "3.9.12"
  }
 },
 "nbformat": 4,
 "nbformat_minor": 5
}
