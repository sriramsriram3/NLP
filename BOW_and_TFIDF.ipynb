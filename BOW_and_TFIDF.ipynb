{
  "nbformat": 4,
  "nbformat_minor": 0,
  "metadata": {
    "colab": {
      "provenance": []
    },
    "kernelspec": {
      "name": "python3",
      "display_name": "Python 3"
    },
    "language_info": {
      "name": "python"
    }
  },
  "cells": [
    {
      "cell_type": "markdown",
      "source": [
        "# **Tokenization**"
      ],
      "metadata": {
        "id": "cJQa2T8xy5dv"
      }
    },
    {
      "cell_type": "code",
      "execution_count": null,
      "metadata": {
        "id": "IwY_-KCty2Vs"
      },
      "outputs": [],
      "source": [
        "corpus=\"\"\"Virat Kohli born 5 November 1988) is an Indian international cricketer who plays Test and One Day International (ODI) cricket for the Indian\n",
        "national team. A former captain in all formats, Kohli retired from Twenty20 International (T20I) following India's win at the 2024 T20 World Cup. He is a right-handed batsman and an occasional unorthodox right arm quick bowler. He represents\n",
        "Royal Challengers Bengaluru in the Indian Premier League (IPL) and Delhi in domestic cricket. He holds the record as the highest run-scorer in IPL,\n",
        "ranks third in T20I, third in ODI, and stands as the fourth-highest in international cricket.[5] He also holds the record for scoring the most\n",
        "centuries in ODI cricket and stands second in the list of most international centuries scored. Kohli is widely regarded as one of the greatest\n",
        "batsmen of all time and the greatest batsman in the modern era.[citation needed] Kohli was a key member of the Indian team that won the 2011 Cricket\n",
        " World Cup, 2013 Champions Trophy and 2024 T20 World Cup and captained India to win the ICC Test mace three consecutive times in 2017, 2018, and\n",
        " 2019.\"\"\""
      ]
    },
    {
      "cell_type": "code",
      "source": [
        "print(corpus)"
      ],
      "metadata": {
        "colab": {
          "base_uri": "https://localhost:8080/"
        },
        "id": "rXOEgfXXzqh9",
        "outputId": "8c18678b-9e7c-4c4c-e205-07057fb53251"
      },
      "execution_count": null,
      "outputs": [
        {
          "output_type": "stream",
          "name": "stdout",
          "text": [
            "Virat Kohli born 5 November 1988) is an Indian international cricketer who plays Test and One Day International (ODI) cricket for the Indian \n",
            "national team. A former captain in all formats, Kohli retired from Twenty20 International (T20I) following India's win at the 2024 T20 World Cup. He is a right-handed batsman and an occasional unorthodox right arm quick bowler. He represents \n",
            "Royal Challengers Bengaluru in the Indian Premier League (IPL) and Delhi in domestic cricket. He holds the record as the highest run-scorer in IPL, \n",
            "ranks third in T20I, third in ODI, and stands as the fourth-highest in international cricket.[5] He also holds the record for scoring the most \n",
            "centuries in ODI cricket and stands second in the list of most international centuries scored. Kohli is widely regarded as one of the greatest \n",
            "batsmen of all time and the greatest batsman in the modern era.[citation needed] Kohli was a key member of the Indian team that won the 2011 Cricket\n",
            " World Cup, 2013 Champions Trophy and 2024 T20 World Cup and captained India to win the ICC Test mace three consecutive times in 2017, 2018, and \n",
            " 2019.\n"
          ]
        }
      ]
    },
    {
      "cell_type": "code",
      "source": [
        "nltk.download('punkt')"
      ],
      "metadata": {
        "colab": {
          "base_uri": "https://localhost:8080/"
        },
        "id": "TOkDljex0YEk",
        "outputId": "ae89989a-406f-40de-c1f6-daf3ccf3c0a6"
      },
      "execution_count": null,
      "outputs": [
        {
          "output_type": "stream",
          "name": "stderr",
          "text": [
            "[nltk_data] Downloading package punkt to /root/nltk_data...\n",
            "[nltk_data]   Unzipping tokenizers/punkt.zip.\n"
          ]
        },
        {
          "output_type": "execute_result",
          "data": {
            "text/plain": [
              "True"
            ]
          },
          "metadata": {},
          "execution_count": 6
        }
      ]
    },
    {
      "cell_type": "markdown",
      "source": [
        "**Sent Tokenize**"
      ],
      "metadata": {
        "id": "CBWQ9C971qU-"
      }
    },
    {
      "cell_type": "code",
      "source": [
        "import nltk\n",
        "sentences=nltk.sent_tokenize(corpus)\n",
        "sentences=[sent.replace('\\n','').strip() for sent in sentences]\n",
        "sentences"
      ],
      "metadata": {
        "colab": {
          "base_uri": "https://localhost:8080/"
        },
        "id": "6Gidq2jSzsGP",
        "outputId": "10f01e2f-3c9c-4153-c15f-396c22f35cdc"
      },
      "execution_count": null,
      "outputs": [
        {
          "output_type": "execute_result",
          "data": {
            "text/plain": [
              "['Virat Kohli born 5 November 1988) is an Indian international cricketer who plays Test and One Day International (ODI) cricket for the Indian national team.',\n",
              " \"A former captain in all formats, Kohli retired from Twenty20 International (T20I) following India's win at the 2024 T20 World Cup.\",\n",
              " 'He is a right-handed batsman and an occasional unorthodox right arm quick bowler.',\n",
              " 'He represents Royal Challengers Bengaluru in the Indian Premier League (IPL) and Delhi in domestic cricket.',\n",
              " 'He holds the record as the highest run-scorer in IPL, ranks third in T20I, third in ODI, and stands as the fourth-highest in international cricket.',\n",
              " '[5] He also holds the record for scoring the most centuries in ODI cricket and stands second in the list of most international centuries scored.',\n",
              " 'Kohli is widely regarded as one of the greatest batsmen of all time and the greatest batsman in the modern era.',\n",
              " '[citation needed] Kohli was a key member of the Indian team that won the 2011 Cricket World Cup, 2013 Champions Trophy and 2024 T20 World Cup and captained India to win the ICC Test mace three consecutive times in 2017, 2018, and  2019.']"
            ]
          },
          "metadata": {},
          "execution_count": 10
        }
      ]
    },
    {
      "cell_type": "markdown",
      "source": [
        "**Word Tokenize**"
      ],
      "metadata": {
        "id": "Ii68Z7XZ15f3"
      }
    },
    {
      "cell_type": "code",
      "source": [
        "print(corpus)"
      ],
      "metadata": {
        "colab": {
          "base_uri": "https://localhost:8080/"
        },
        "id": "0sHGGcxR0NQc",
        "outputId": "440fb521-991c-4290-b7d6-f7e2f120286f"
      },
      "execution_count": null,
      "outputs": [
        {
          "output_type": "stream",
          "name": "stdout",
          "text": [
            "Virat Kohli born 5 November 1988) is an Indian international cricketer who plays Test and One Day International (ODI) cricket for the Indian \n",
            "national team. A former captain in all formats, Kohli retired from Twenty20 International (T20I) following India's win at the 2024 T20 World Cup. He is a right-handed batsman and an occasional unorthodox right arm quick bowler. He represents \n",
            "Royal Challengers Bengaluru in the Indian Premier League (IPL) and Delhi in domestic cricket. He holds the record as the highest run-scorer in IPL, \n",
            "ranks third in T20I, third in ODI, and stands as the fourth-highest in international cricket.[5] He also holds the record for scoring the most \n",
            "centuries in ODI cricket and stands second in the list of most international centuries scored. Kohli is widely regarded as one of the greatest \n",
            "batsmen of all time and the greatest batsman in the modern era.[citation needed] Kohli was a key member of the Indian team that won the 2011 Cricket\n",
            " World Cup, 2013 Champions Trophy and 2024 T20 World Cup and captained India to win the ICC Test mace three consecutive times in 2017, 2018, and \n",
            " 2019.\n"
          ]
        }
      ]
    },
    {
      "cell_type": "code",
      "source": [
        "words=nltk.word_tokenize(corpus)\n",
        "words"
      ],
      "metadata": {
        "colab": {
          "base_uri": "https://localhost:8080/"
        },
        "id": "QY_qPonN2CgR",
        "outputId": "34503d4b-1bd4-4c4f-cc08-d61b03ae09fc"
      },
      "execution_count": null,
      "outputs": [
        {
          "output_type": "execute_result",
          "data": {
            "text/plain": [
              "['Virat',\n",
              " 'Kohli',\n",
              " 'born',\n",
              " '5',\n",
              " 'November',\n",
              " '1988',\n",
              " ')',\n",
              " 'is',\n",
              " 'an',\n",
              " 'Indian',\n",
              " 'international',\n",
              " 'cricketer',\n",
              " 'who',\n",
              " 'plays',\n",
              " 'Test',\n",
              " 'and',\n",
              " 'One',\n",
              " 'Day',\n",
              " 'International',\n",
              " '(',\n",
              " 'ODI',\n",
              " ')',\n",
              " 'cricket',\n",
              " 'for',\n",
              " 'the',\n",
              " 'Indian',\n",
              " 'national',\n",
              " 'team',\n",
              " '.',\n",
              " 'A',\n",
              " 'former',\n",
              " 'captain',\n",
              " 'in',\n",
              " 'all',\n",
              " 'formats',\n",
              " ',',\n",
              " 'Kohli',\n",
              " 'retired',\n",
              " 'from',\n",
              " 'Twenty20',\n",
              " 'International',\n",
              " '(',\n",
              " 'T20I',\n",
              " ')',\n",
              " 'following',\n",
              " 'India',\n",
              " \"'s\",\n",
              " 'win',\n",
              " 'at',\n",
              " 'the',\n",
              " '2024',\n",
              " 'T20',\n",
              " 'World',\n",
              " 'Cup',\n",
              " '.',\n",
              " 'He',\n",
              " 'is',\n",
              " 'a',\n",
              " 'right-handed',\n",
              " 'batsman',\n",
              " 'and',\n",
              " 'an',\n",
              " 'occasional',\n",
              " 'unorthodox',\n",
              " 'right',\n",
              " 'arm',\n",
              " 'quick',\n",
              " 'bowler',\n",
              " '.',\n",
              " 'He',\n",
              " 'represents',\n",
              " 'Royal',\n",
              " 'Challengers',\n",
              " 'Bengaluru',\n",
              " 'in',\n",
              " 'the',\n",
              " 'Indian',\n",
              " 'Premier',\n",
              " 'League',\n",
              " '(',\n",
              " 'IPL',\n",
              " ')',\n",
              " 'and',\n",
              " 'Delhi',\n",
              " 'in',\n",
              " 'domestic',\n",
              " 'cricket',\n",
              " '.',\n",
              " 'He',\n",
              " 'holds',\n",
              " 'the',\n",
              " 'record',\n",
              " 'as',\n",
              " 'the',\n",
              " 'highest',\n",
              " 'run-scorer',\n",
              " 'in',\n",
              " 'IPL',\n",
              " ',',\n",
              " 'ranks',\n",
              " 'third',\n",
              " 'in',\n",
              " 'T20I',\n",
              " ',',\n",
              " 'third',\n",
              " 'in',\n",
              " 'ODI',\n",
              " ',',\n",
              " 'and',\n",
              " 'stands',\n",
              " 'as',\n",
              " 'the',\n",
              " 'fourth-highest',\n",
              " 'in',\n",
              " 'international',\n",
              " 'cricket',\n",
              " '.',\n",
              " '[',\n",
              " '5',\n",
              " ']',\n",
              " 'He',\n",
              " 'also',\n",
              " 'holds',\n",
              " 'the',\n",
              " 'record',\n",
              " 'for',\n",
              " 'scoring',\n",
              " 'the',\n",
              " 'most',\n",
              " 'centuries',\n",
              " 'in',\n",
              " 'ODI',\n",
              " 'cricket',\n",
              " 'and',\n",
              " 'stands',\n",
              " 'second',\n",
              " 'in',\n",
              " 'the',\n",
              " 'list',\n",
              " 'of',\n",
              " 'most',\n",
              " 'international',\n",
              " 'centuries',\n",
              " 'scored',\n",
              " '.',\n",
              " 'Kohli',\n",
              " 'is',\n",
              " 'widely',\n",
              " 'regarded',\n",
              " 'as',\n",
              " 'one',\n",
              " 'of',\n",
              " 'the',\n",
              " 'greatest',\n",
              " 'batsmen',\n",
              " 'of',\n",
              " 'all',\n",
              " 'time',\n",
              " 'and',\n",
              " 'the',\n",
              " 'greatest',\n",
              " 'batsman',\n",
              " 'in',\n",
              " 'the',\n",
              " 'modern',\n",
              " 'era',\n",
              " '.',\n",
              " '[',\n",
              " 'citation',\n",
              " 'needed',\n",
              " ']',\n",
              " 'Kohli',\n",
              " 'was',\n",
              " 'a',\n",
              " 'key',\n",
              " 'member',\n",
              " 'of',\n",
              " 'the',\n",
              " 'Indian',\n",
              " 'team',\n",
              " 'that',\n",
              " 'won',\n",
              " 'the',\n",
              " '2011',\n",
              " 'Cricket',\n",
              " 'World',\n",
              " 'Cup',\n",
              " ',',\n",
              " '2013',\n",
              " 'Champions',\n",
              " 'Trophy',\n",
              " 'and',\n",
              " '2024',\n",
              " 'T20',\n",
              " 'World',\n",
              " 'Cup',\n",
              " 'and',\n",
              " 'captained',\n",
              " 'India',\n",
              " 'to',\n",
              " 'win',\n",
              " 'the',\n",
              " 'ICC',\n",
              " 'Test',\n",
              " 'mace',\n",
              " 'three',\n",
              " 'consecutive',\n",
              " 'times',\n",
              " 'in',\n",
              " '2017',\n",
              " ',',\n",
              " '2018',\n",
              " ',',\n",
              " 'and',\n",
              " '2019',\n",
              " '.']"
            ]
          },
          "metadata": {},
          "execution_count": 12
        }
      ]
    },
    {
      "cell_type": "markdown",
      "source": [
        "# **Stemming**"
      ],
      "metadata": {
        "id": "mnU_gsRA2PSj"
      }
    },
    {
      "cell_type": "code",
      "source": [
        "print(corpus)"
      ],
      "metadata": {
        "colab": {
          "base_uri": "https://localhost:8080/"
        },
        "id": "FlA8neyr2Jv6",
        "outputId": "40a116ec-208f-446b-cc30-0093b375912b"
      },
      "execution_count": null,
      "outputs": [
        {
          "output_type": "stream",
          "name": "stdout",
          "text": [
            "Virat Kohli born 5 November 1988) is an Indian international cricketer who plays Test and One Day International (ODI) cricket for the Indian \n",
            "national team. A former captain in all formats, Kohli retired from Twenty20 International (T20I) following India's win at the 2024 T20 World Cup. He is a right-handed batsman and an occasional unorthodox right arm quick bowler. He represents \n",
            "Royal Challengers Bengaluru in the Indian Premier League (IPL) and Delhi in domestic cricket. He holds the record as the highest run-scorer in IPL, \n",
            "ranks third in T20I, third in ODI, and stands as the fourth-highest in international cricket.[5] He also holds the record for scoring the most \n",
            "centuries in ODI cricket and stands second in the list of most international centuries scored. Kohli is widely regarded as one of the greatest \n",
            "batsmen of all time and the greatest batsman in the modern era.[citation needed] Kohli was a key member of the Indian team that won the 2011 Cricket\n",
            " World Cup, 2013 Champions Trophy and 2024 T20 World Cup and captained India to win the ICC Test mace three consecutive times in 2017, 2018, and \n",
            " 2019.\n"
          ]
        }
      ]
    },
    {
      "cell_type": "markdown",
      "source": [
        "**PorterStemmer**"
      ],
      "metadata": {
        "id": "DKGTbZr72c7x"
      }
    },
    {
      "cell_type": "code",
      "source": [
        "from nltk.stem import PorterStemmer\n",
        "ps=PorterStemmer()\n",
        "words=nltk.word_tokenize(corpus)\n",
        "print(words)\n",
        "stem_words=[ps.stem(word).lower() for word in words ]\n",
        "print(stem_words)"
      ],
      "metadata": {
        "colab": {
          "base_uri": "https://localhost:8080/"
        },
        "id": "tTcnIZLl2YBR",
        "outputId": "1b33a3b3-878a-4c5a-c5ee-256d5477d77c"
      },
      "execution_count": null,
      "outputs": [
        {
          "output_type": "stream",
          "name": "stdout",
          "text": [
            "['Virat', 'Kohli', 'born', '5', 'November', '1988', ')', 'is', 'an', 'Indian', 'international', 'cricketer', 'who', 'plays', 'Test', 'and', 'One', 'Day', 'International', '(', 'ODI', ')', 'cricket', 'for', 'the', 'Indian', 'national', 'team', '.', 'A', 'former', 'captain', 'in', 'all', 'formats', ',', 'Kohli', 'retired', 'from', 'Twenty20', 'International', '(', 'T20I', ')', 'following', 'India', \"'s\", 'win', 'at', 'the', '2024', 'T20', 'World', 'Cup', '.', 'He', 'is', 'a', 'right-handed', 'batsman', 'and', 'an', 'occasional', 'unorthodox', 'right', 'arm', 'quick', 'bowler', '.', 'He', 'represents', 'Royal', 'Challengers', 'Bengaluru', 'in', 'the', 'Indian', 'Premier', 'League', '(', 'IPL', ')', 'and', 'Delhi', 'in', 'domestic', 'cricket', '.', 'He', 'holds', 'the', 'record', 'as', 'the', 'highest', 'run-scorer', 'in', 'IPL', ',', 'ranks', 'third', 'in', 'T20I', ',', 'third', 'in', 'ODI', ',', 'and', 'stands', 'as', 'the', 'fourth-highest', 'in', 'international', 'cricket', '.', '[', '5', ']', 'He', 'also', 'holds', 'the', 'record', 'for', 'scoring', 'the', 'most', 'centuries', 'in', 'ODI', 'cricket', 'and', 'stands', 'second', 'in', 'the', 'list', 'of', 'most', 'international', 'centuries', 'scored', '.', 'Kohli', 'is', 'widely', 'regarded', 'as', 'one', 'of', 'the', 'greatest', 'batsmen', 'of', 'all', 'time', 'and', 'the', 'greatest', 'batsman', 'in', 'the', 'modern', 'era', '.', '[', 'citation', 'needed', ']', 'Kohli', 'was', 'a', 'key', 'member', 'of', 'the', 'Indian', 'team', 'that', 'won', 'the', '2011', 'Cricket', 'World', 'Cup', ',', '2013', 'Champions', 'Trophy', 'and', '2024', 'T20', 'World', 'Cup', 'and', 'captained', 'India', 'to', 'win', 'the', 'ICC', 'Test', 'mace', 'three', 'consecutive', 'times', 'in', '2017', ',', '2018', ',', 'and', '2019', '.']\n",
            "['virat', 'kohli', 'born', '5', 'novemb', '1988', ')', 'is', 'an', 'indian', 'intern', 'cricket', 'who', 'play', 'test', 'and', 'one', 'day', 'intern', '(', 'odi', ')', 'cricket', 'for', 'the', 'indian', 'nation', 'team', '.', 'a', 'former', 'captain', 'in', 'all', 'format', ',', 'kohli', 'retir', 'from', 'twenty20', 'intern', '(', 't20i', ')', 'follow', 'india', \"'s\", 'win', 'at', 'the', '2024', 't20', 'world', 'cup', '.', 'he', 'is', 'a', 'right-hand', 'batsman', 'and', 'an', 'occasion', 'unorthodox', 'right', 'arm', 'quick', 'bowler', '.', 'he', 'repres', 'royal', 'challeng', 'bengaluru', 'in', 'the', 'indian', 'premier', 'leagu', '(', 'ipl', ')', 'and', 'delhi', 'in', 'domest', 'cricket', '.', 'he', 'hold', 'the', 'record', 'as', 'the', 'highest', 'run-scor', 'in', 'ipl', ',', 'rank', 'third', 'in', 't20i', ',', 'third', 'in', 'odi', ',', 'and', 'stand', 'as', 'the', 'fourth-highest', 'in', 'intern', 'cricket', '.', '[', '5', ']', 'he', 'also', 'hold', 'the', 'record', 'for', 'score', 'the', 'most', 'centuri', 'in', 'odi', 'cricket', 'and', 'stand', 'second', 'in', 'the', 'list', 'of', 'most', 'intern', 'centuri', 'score', '.', 'kohli', 'is', 'wide', 'regard', 'as', 'one', 'of', 'the', 'greatest', 'batsmen', 'of', 'all', 'time', 'and', 'the', 'greatest', 'batsman', 'in', 'the', 'modern', 'era', '.', '[', 'citat', 'need', ']', 'kohli', 'wa', 'a', 'key', 'member', 'of', 'the', 'indian', 'team', 'that', 'won', 'the', '2011', 'cricket', 'world', 'cup', ',', '2013', 'champion', 'trophi', 'and', '2024', 't20', 'world', 'cup', 'and', 'captain', 'india', 'to', 'win', 'the', 'icc', 'test', 'mace', 'three', 'consecut', 'time', 'in', '2017', ',', '2018', ',', 'and', '2019', '.']\n"
          ]
        }
      ]
    },
    {
      "cell_type": "markdown",
      "source": [
        "**Regexpstemmer**"
      ],
      "metadata": {
        "id": "An4pOxLJ3gba"
      }
    },
    {
      "cell_type": "code",
      "source": [
        "from nltk.stem import RegexpStemmer\n",
        "import re\n",
        "ps=RegexpStemmer('ing$|s$|e$|able$')\n",
        "words=nltk.word_tokenize(corpus)\n",
        "print(words)\n",
        "stem_words=[ps.stem(word).lower() for word in words ]\n",
        "print(stem_words)"
      ],
      "metadata": {
        "colab": {
          "base_uri": "https://localhost:8080/"
        },
        "id": "pKA1wuiT3Svf",
        "outputId": "09fa2feb-7494-433d-9612-59a0a2b5f38f"
      },
      "execution_count": null,
      "outputs": [
        {
          "output_type": "stream",
          "name": "stdout",
          "text": [
            "['Virat', 'Kohli', 'born', '5', 'November', '1988', ')', 'is', 'an', 'Indian', 'international', 'cricketer', 'who', 'plays', 'Test', 'and', 'One', 'Day', 'International', '(', 'ODI', ')', 'cricket', 'for', 'the', 'Indian', 'national', 'team', '.', 'A', 'former', 'captain', 'in', 'all', 'formats', ',', 'Kohli', 'retired', 'from', 'Twenty20', 'International', '(', 'T20I', ')', 'following', 'India', \"'s\", 'win', 'at', 'the', '2024', 'T20', 'World', 'Cup', '.', 'He', 'is', 'a', 'right-handed', 'batsman', 'and', 'an', 'occasional', 'unorthodox', 'right', 'arm', 'quick', 'bowler', '.', 'He', 'represents', 'Royal', 'Challengers', 'Bengaluru', 'in', 'the', 'Indian', 'Premier', 'League', '(', 'IPL', ')', 'and', 'Delhi', 'in', 'domestic', 'cricket', '.', 'He', 'holds', 'the', 'record', 'as', 'the', 'highest', 'run-scorer', 'in', 'IPL', ',', 'ranks', 'third', 'in', 'T20I', ',', 'third', 'in', 'ODI', ',', 'and', 'stands', 'as', 'the', 'fourth-highest', 'in', 'international', 'cricket', '.', '[', '5', ']', 'He', 'also', 'holds', 'the', 'record', 'for', 'scoring', 'the', 'most', 'centuries', 'in', 'ODI', 'cricket', 'and', 'stands', 'second', 'in', 'the', 'list', 'of', 'most', 'international', 'centuries', 'scored', '.', 'Kohli', 'is', 'widely', 'regarded', 'as', 'one', 'of', 'the', 'greatest', 'batsmen', 'of', 'all', 'time', 'and', 'the', 'greatest', 'batsman', 'in', 'the', 'modern', 'era', '.', '[', 'citation', 'needed', ']', 'Kohli', 'was', 'a', 'key', 'member', 'of', 'the', 'Indian', 'team', 'that', 'won', 'the', '2011', 'Cricket', 'World', 'Cup', ',', '2013', 'Champions', 'Trophy', 'and', '2024', 'T20', 'World', 'Cup', 'and', 'captained', 'India', 'to', 'win', 'the', 'ICC', 'Test', 'mace', 'three', 'consecutive', 'times', 'in', '2017', ',', '2018', ',', 'and', '2019', '.']\n",
            "['virat', 'kohli', 'born', '5', 'november', '1988', ')', 'i', 'an', 'indian', 'international', 'cricketer', 'who', 'play', 'test', 'and', 'on', 'day', 'international', '(', 'odi', ')', 'cricket', 'for', 'th', 'indian', 'national', 'team', '.', 'a', 'former', 'captain', 'in', 'all', 'format', ',', 'kohli', 'retired', 'from', 'twenty20', 'international', '(', 't20i', ')', 'follow', 'india', \"'\", 'win', 'at', 'th', '2024', 't20', 'world', 'cup', '.', 'h', 'i', 'a', 'right-handed', 'batsman', 'and', 'an', 'occasional', 'unorthodox', 'right', 'arm', 'quick', 'bowler', '.', 'h', 'represent', 'royal', 'challenger', 'bengaluru', 'in', 'th', 'indian', 'premier', 'leagu', '(', 'ipl', ')', 'and', 'delhi', 'in', 'domestic', 'cricket', '.', 'h', 'hold', 'th', 'record', 'a', 'th', 'highest', 'run-scorer', 'in', 'ipl', ',', 'rank', 'third', 'in', 't20i', ',', 'third', 'in', 'odi', ',', 'and', 'stand', 'a', 'th', 'fourth-highest', 'in', 'international', 'cricket', '.', '[', '5', ']', 'h', 'also', 'hold', 'th', 'record', 'for', 'scor', 'th', 'most', 'centurie', 'in', 'odi', 'cricket', 'and', 'stand', 'second', 'in', 'th', 'list', 'of', 'most', 'international', 'centurie', 'scored', '.', 'kohli', 'i', 'widely', 'regarded', 'a', 'on', 'of', 'th', 'greatest', 'batsmen', 'of', 'all', 'tim', 'and', 'th', 'greatest', 'batsman', 'in', 'th', 'modern', 'era', '.', '[', 'citation', 'needed', ']', 'kohli', 'wa', 'a', 'key', 'member', 'of', 'th', 'indian', 'team', 'that', 'won', 'th', '2011', 'cricket', 'world', 'cup', ',', '2013', 'champion', 'trophy', 'and', '2024', 't20', 'world', 'cup', 'and', 'captained', 'india', 'to', 'win', 'th', 'icc', 'test', 'mac', 'thre', 'consecutiv', 'time', 'in', '2017', ',', '2018', ',', 'and', '2019', '.']\n"
          ]
        }
      ]
    },
    {
      "cell_type": "markdown",
      "source": [
        "**SnowBall Stemmer**"
      ],
      "metadata": {
        "id": "UceomN1Q4hOB"
      }
    },
    {
      "cell_type": "code",
      "source": [
        "from nltk.stem import SnowballStemmer\n",
        "pbs=SnowballStemmer(language='english')\n",
        "words=nltk.word_tokenize(corpus)\n",
        "print(words)\n",
        "stem_words=[pbs.stem(word).lower() for word in words ]\n",
        "print(stem_words)"
      ],
      "metadata": {
        "colab": {
          "base_uri": "https://localhost:8080/"
        },
        "id": "Z239qX7l32Xc",
        "outputId": "2d8b1c3a-b937-4382-d767-4dfd7e76dcd4"
      },
      "execution_count": null,
      "outputs": [
        {
          "output_type": "stream",
          "name": "stdout",
          "text": [
            "['Virat', 'Kohli', 'born', '5', 'November', '1988', ')', 'is', 'an', 'Indian', 'international', 'cricketer', 'who', 'plays', 'Test', 'and', 'One', 'Day', 'International', '(', 'ODI', ')', 'cricket', 'for', 'the', 'Indian', 'national', 'team', '.', 'A', 'former', 'captain', 'in', 'all', 'formats', ',', 'Kohli', 'retired', 'from', 'Twenty20', 'International', '(', 'T20I', ')', 'following', 'India', \"'s\", 'win', 'at', 'the', '2024', 'T20', 'World', 'Cup', '.', 'He', 'is', 'a', 'right-handed', 'batsman', 'and', 'an', 'occasional', 'unorthodox', 'right', 'arm', 'quick', 'bowler', '.', 'He', 'represents', 'Royal', 'Challengers', 'Bengaluru', 'in', 'the', 'Indian', 'Premier', 'League', '(', 'IPL', ')', 'and', 'Delhi', 'in', 'domestic', 'cricket', '.', 'He', 'holds', 'the', 'record', 'as', 'the', 'highest', 'run-scorer', 'in', 'IPL', ',', 'ranks', 'third', 'in', 'T20I', ',', 'third', 'in', 'ODI', ',', 'and', 'stands', 'as', 'the', 'fourth-highest', 'in', 'international', 'cricket', '.', '[', '5', ']', 'He', 'also', 'holds', 'the', 'record', 'for', 'scoring', 'the', 'most', 'centuries', 'in', 'ODI', 'cricket', 'and', 'stands', 'second', 'in', 'the', 'list', 'of', 'most', 'international', 'centuries', 'scored', '.', 'Kohli', 'is', 'widely', 'regarded', 'as', 'one', 'of', 'the', 'greatest', 'batsmen', 'of', 'all', 'time', 'and', 'the', 'greatest', 'batsman', 'in', 'the', 'modern', 'era', '.', '[', 'citation', 'needed', ']', 'Kohli', 'was', 'a', 'key', 'member', 'of', 'the', 'Indian', 'team', 'that', 'won', 'the', '2011', 'Cricket', 'World', 'Cup', ',', '2013', 'Champions', 'Trophy', 'and', '2024', 'T20', 'World', 'Cup', 'and', 'captained', 'India', 'to', 'win', 'the', 'ICC', 'Test', 'mace', 'three', 'consecutive', 'times', 'in', '2017', ',', '2018', ',', 'and', '2019', '.']\n",
            "['virat', 'koh', 'born', '5', 'novemb', '1988', ')', 'is', 'an', 'indian', 'intern', 'cricket', 'who', 'play', 'test', 'and', 'one', 'day', 'intern', '(', 'odi', ')', 'cricket', 'for', 'the', 'indian', 'nation', 'team', '.', 'a', 'former', 'captain', 'in', 'all', 'format', ',', 'koh', 'retir', 'from', 'twenty20', 'intern', '(', 't20i', ')', 'follow', 'india', \"'s\", 'win', 'at', 'the', '2024', 't20', 'world', 'cup', '.', 'he', 'is', 'a', 'right-hand', 'batsman', 'and', 'an', 'occasion', 'unorthodox', 'right', 'arm', 'quick', 'bowler', '.', 'he', 'repres', 'royal', 'challeng', 'bengaluru', 'in', 'the', 'indian', 'premier', 'leagu', '(', 'ipl', ')', 'and', 'delhi', 'in', 'domest', 'cricket', '.', 'he', 'hold', 'the', 'record', 'as', 'the', 'highest', 'run-scor', 'in', 'ipl', ',', 'rank', 'third', 'in', 't20i', ',', 'third', 'in', 'odi', ',', 'and', 'stand', 'as', 'the', 'fourth-highest', 'in', 'intern', 'cricket', '.', '[', '5', ']', 'he', 'also', 'hold', 'the', 'record', 'for', 'score', 'the', 'most', 'centuri', 'in', 'odi', 'cricket', 'and', 'stand', 'second', 'in', 'the', 'list', 'of', 'most', 'intern', 'centuri', 'score', '.', 'koh', 'is', 'wide', 'regard', 'as', 'one', 'of', 'the', 'greatest', 'batsmen', 'of', 'all', 'time', 'and', 'the', 'greatest', 'batsman', 'in', 'the', 'modern', 'era', '.', '[', 'citat', 'need', ']', 'koh', 'was', 'a', 'key', 'member', 'of', 'the', 'indian', 'team', 'that', 'won', 'the', '2011', 'cricket', 'world', 'cup', ',', '2013', 'champion', 'trophi', 'and', '2024', 't20', 'world', 'cup', 'and', 'captain', 'india', 'to', 'win', 'the', 'icc', 'test', 'mace', 'three', 'consecut', 'time', 'in', '2017', ',', '2018', ',', 'and', '2019', '.']\n"
          ]
        }
      ]
    },
    {
      "cell_type": "markdown",
      "source": [
        "# **Lemmatization**"
      ],
      "metadata": {
        "id": "-jBmPCXd48r6"
      }
    },
    {
      "cell_type": "markdown",
      "source": [
        "**WordNet Lemmatizer**"
      ],
      "metadata": {
        "id": "aCjq2Fld5CM2"
      }
    },
    {
      "cell_type": "code",
      "source": [
        "nltk.download('wordnet')"
      ],
      "metadata": {
        "colab": {
          "base_uri": "https://localhost:8080/"
        },
        "id": "y-tF135X5ba3",
        "outputId": "0cac30ca-2402-477a-ed97-c0b7840017a4"
      },
      "execution_count": null,
      "outputs": [
        {
          "output_type": "stream",
          "name": "stderr",
          "text": [
            "[nltk_data] Downloading package wordnet to /root/nltk_data...\n"
          ]
        },
        {
          "output_type": "execute_result",
          "data": {
            "text/plain": [
              "True"
            ]
          },
          "metadata": {},
          "execution_count": 29
        }
      ]
    },
    {
      "cell_type": "code",
      "source": [
        "from nltk.stem import WordNetLemmatizer\n",
        "wl=WordNetLemmatizer()\n",
        "words=nltk.word_tokenize(corpus)\n",
        "print(words)\n",
        "stem_words=[wl.lemmatize(word).lower() for word in words ]\n",
        "print(stem_words)"
      ],
      "metadata": {
        "colab": {
          "base_uri": "https://localhost:8080/"
        },
        "id": "PeEpNobq4y7Z",
        "outputId": "0aaf8549-9105-4375-b74c-157f126c28d5"
      },
      "execution_count": null,
      "outputs": [
        {
          "output_type": "stream",
          "name": "stdout",
          "text": [
            "['Virat', 'Kohli', 'born', '5', 'November', '1988', ')', 'is', 'an', 'Indian', 'international', 'cricketer', 'who', 'plays', 'Test', 'and', 'One', 'Day', 'International', '(', 'ODI', ')', 'cricket', 'for', 'the', 'Indian', 'national', 'team', '.', 'A', 'former', 'captain', 'in', 'all', 'formats', ',', 'Kohli', 'retired', 'from', 'Twenty20', 'International', '(', 'T20I', ')', 'following', 'India', \"'s\", 'win', 'at', 'the', '2024', 'T20', 'World', 'Cup', '.', 'He', 'is', 'a', 'right-handed', 'batsman', 'and', 'an', 'occasional', 'unorthodox', 'right', 'arm', 'quick', 'bowler', '.', 'He', 'represents', 'Royal', 'Challengers', 'Bengaluru', 'in', 'the', 'Indian', 'Premier', 'League', '(', 'IPL', ')', 'and', 'Delhi', 'in', 'domestic', 'cricket', '.', 'He', 'holds', 'the', 'record', 'as', 'the', 'highest', 'run-scorer', 'in', 'IPL', ',', 'ranks', 'third', 'in', 'T20I', ',', 'third', 'in', 'ODI', ',', 'and', 'stands', 'as', 'the', 'fourth-highest', 'in', 'international', 'cricket', '.', '[', '5', ']', 'He', 'also', 'holds', 'the', 'record', 'for', 'scoring', 'the', 'most', 'centuries', 'in', 'ODI', 'cricket', 'and', 'stands', 'second', 'in', 'the', 'list', 'of', 'most', 'international', 'centuries', 'scored', '.', 'Kohli', 'is', 'widely', 'regarded', 'as', 'one', 'of', 'the', 'greatest', 'batsmen', 'of', 'all', 'time', 'and', 'the', 'greatest', 'batsman', 'in', 'the', 'modern', 'era', '.', '[', 'citation', 'needed', ']', 'Kohli', 'was', 'a', 'key', 'member', 'of', 'the', 'Indian', 'team', 'that', 'won', 'the', '2011', 'Cricket', 'World', 'Cup', ',', '2013', 'Champions', 'Trophy', 'and', '2024', 'T20', 'World', 'Cup', 'and', 'captained', 'India', 'to', 'win', 'the', 'ICC', 'Test', 'mace', 'three', 'consecutive', 'times', 'in', '2017', ',', '2018', ',', 'and', '2019', '.']\n",
            "['virat', 'kohli', 'born', '5', 'november', '1988', ')', 'is', 'an', 'indian', 'international', 'cricketer', 'who', 'play', 'test', 'and', 'one', 'day', 'international', '(', 'odi', ')', 'cricket', 'for', 'the', 'indian', 'national', 'team', '.', 'a', 'former', 'captain', 'in', 'all', 'format', ',', 'kohli', 'retired', 'from', 'twenty20', 'international', '(', 't20i', ')', 'following', 'india', \"'s\", 'win', 'at', 'the', '2024', 't20', 'world', 'cup', '.', 'he', 'is', 'a', 'right-handed', 'batsman', 'and', 'an', 'occasional', 'unorthodox', 'right', 'arm', 'quick', 'bowler', '.', 'he', 'represents', 'royal', 'challengers', 'bengaluru', 'in', 'the', 'indian', 'premier', 'league', '(', 'ipl', ')', 'and', 'delhi', 'in', 'domestic', 'cricket', '.', 'he', 'hold', 'the', 'record', 'a', 'the', 'highest', 'run-scorer', 'in', 'ipl', ',', 'rank', 'third', 'in', 't20i', ',', 'third', 'in', 'odi', ',', 'and', 'stand', 'a', 'the', 'fourth-highest', 'in', 'international', 'cricket', '.', '[', '5', ']', 'he', 'also', 'hold', 'the', 'record', 'for', 'scoring', 'the', 'most', 'century', 'in', 'odi', 'cricket', 'and', 'stand', 'second', 'in', 'the', 'list', 'of', 'most', 'international', 'century', 'scored', '.', 'kohli', 'is', 'widely', 'regarded', 'a', 'one', 'of', 'the', 'greatest', 'batsman', 'of', 'all', 'time', 'and', 'the', 'greatest', 'batsman', 'in', 'the', 'modern', 'era', '.', '[', 'citation', 'needed', ']', 'kohli', 'wa', 'a', 'key', 'member', 'of', 'the', 'indian', 'team', 'that', 'won', 'the', '2011', 'cricket', 'world', 'cup', ',', '2013', 'champions', 'trophy', 'and', '2024', 't20', 'world', 'cup', 'and', 'captained', 'india', 'to', 'win', 'the', 'icc', 'test', 'mace', 'three', 'consecutive', 'time', 'in', '2017', ',', '2018', ',', 'and', '2019', '.']\n"
          ]
        }
      ]
    },
    {
      "cell_type": "markdown",
      "source": [
        "# **StopWord Removal**"
      ],
      "metadata": {
        "id": "XmMNhfsI58Qt"
      }
    },
    {
      "cell_type": "code",
      "source": [
        "print(corpus)"
      ],
      "metadata": {
        "colab": {
          "base_uri": "https://localhost:8080/"
        },
        "id": "wszzWitk5YKS",
        "outputId": "bd36a508-5bd6-4e3e-ed6f-3261610b3dfe"
      },
      "execution_count": null,
      "outputs": [
        {
          "output_type": "stream",
          "name": "stdout",
          "text": [
            "Virat Kohli born 5 November 1988) is an Indian international cricketer who plays Test and One Day International (ODI) cricket for the Indian \n",
            "national team. A former captain in all formats, Kohli retired from Twenty20 International (T20I) following India's win at the 2024 T20 World Cup. He is a right-handed batsman and an occasional unorthodox right arm quick bowler. He represents \n",
            "Royal Challengers Bengaluru in the Indian Premier League (IPL) and Delhi in domestic cricket. He holds the record as the highest run-scorer in IPL, \n",
            "ranks third in T20I, third in ODI, and stands as the fourth-highest in international cricket.[5] He also holds the record for scoring the most \n",
            "centuries in ODI cricket and stands second in the list of most international centuries scored. Kohli is widely regarded as one of the greatest \n",
            "batsmen of all time and the greatest batsman in the modern era.[citation needed] Kohli was a key member of the Indian team that won the 2011 Cricket\n",
            " World Cup, 2013 Champions Trophy and 2024 T20 World Cup and captained India to win the ICC Test mace three consecutive times in 2017, 2018, and \n",
            " 2019.\n"
          ]
        }
      ]
    },
    {
      "cell_type": "code",
      "source": [
        "nltk.download('stopwords')"
      ],
      "metadata": {
        "colab": {
          "base_uri": "https://localhost:8080/"
        },
        "id": "4KylaTWm7r_g",
        "outputId": "f19e61cb-2750-4e00-fbc5-a487d153608a"
      },
      "execution_count": null,
      "outputs": [
        {
          "output_type": "stream",
          "name": "stderr",
          "text": [
            "[nltk_data] Downloading package stopwords to /root/nltk_data...\n",
            "[nltk_data]   Unzipping corpora/stopwords.zip.\n"
          ]
        },
        {
          "output_type": "execute_result",
          "data": {
            "text/plain": [
              "True"
            ]
          },
          "metadata": {},
          "execution_count": 36
        }
      ]
    },
    {
      "cell_type": "code",
      "source": [
        "words=nltk.word_tokenize(corpus)\n",
        "print(words)\n",
        "from nltk.stem import WordNetLemmatizer\n",
        "wnl=WordNetLemmatizer()\n",
        "up_words=[wnl.lemmatize(word).lower() for word in words ]\n",
        "print(up_words)\n",
        "words=[word for word in up_words if word not in nltk.corpus.stopwords.words('english')]\n",
        "print(words)\n"
      ],
      "metadata": {
        "colab": {
          "base_uri": "https://localhost:8080/"
        },
        "id": "lz3T3USY6cWt",
        "outputId": "fe6f7bbe-d6a0-4e88-99af-7518e34d4ccc"
      },
      "execution_count": null,
      "outputs": [
        {
          "output_type": "stream",
          "name": "stdout",
          "text": [
            "['Virat', 'Kohli', 'born', '5', 'November', '1988', ')', 'is', 'an', 'Indian', 'international', 'cricketer', 'who', 'plays', 'Test', 'and', 'One', 'Day', 'International', '(', 'ODI', ')', 'cricket', 'for', 'the', 'Indian', 'national', 'team', '.', 'A', 'former', 'captain', 'in', 'all', 'formats', ',', 'Kohli', 'retired', 'from', 'Twenty20', 'International', '(', 'T20I', ')', 'following', 'India', \"'s\", 'win', 'at', 'the', '2024', 'T20', 'World', 'Cup', '.', 'He', 'is', 'a', 'right-handed', 'batsman', 'and', 'an', 'occasional', 'unorthodox', 'right', 'arm', 'quick', 'bowler', '.', 'He', 'represents', 'Royal', 'Challengers', 'Bengaluru', 'in', 'the', 'Indian', 'Premier', 'League', '(', 'IPL', ')', 'and', 'Delhi', 'in', 'domestic', 'cricket', '.', 'He', 'holds', 'the', 'record', 'as', 'the', 'highest', 'run-scorer', 'in', 'IPL', ',', 'ranks', 'third', 'in', 'T20I', ',', 'third', 'in', 'ODI', ',', 'and', 'stands', 'as', 'the', 'fourth-highest', 'in', 'international', 'cricket', '.', '[', '5', ']', 'He', 'also', 'holds', 'the', 'record', 'for', 'scoring', 'the', 'most', 'centuries', 'in', 'ODI', 'cricket', 'and', 'stands', 'second', 'in', 'the', 'list', 'of', 'most', 'international', 'centuries', 'scored', '.', 'Kohli', 'is', 'widely', 'regarded', 'as', 'one', 'of', 'the', 'greatest', 'batsmen', 'of', 'all', 'time', 'and', 'the', 'greatest', 'batsman', 'in', 'the', 'modern', 'era', '.', '[', 'citation', 'needed', ']', 'Kohli', 'was', 'a', 'key', 'member', 'of', 'the', 'Indian', 'team', 'that', 'won', 'the', '2011', 'Cricket', 'World', 'Cup', ',', '2013', 'Champions', 'Trophy', 'and', '2024', 'T20', 'World', 'Cup', 'and', 'captained', 'India', 'to', 'win', 'the', 'ICC', 'Test', 'mace', 'three', 'consecutive', 'times', 'in', '2017', ',', '2018', ',', 'and', '2019', '.']\n",
            "['virat', 'kohli', 'born', '5', 'november', '1988', ')', 'is', 'an', 'indian', 'international', 'cricketer', 'who', 'play', 'test', 'and', 'one', 'day', 'international', '(', 'odi', ')', 'cricket', 'for', 'the', 'indian', 'national', 'team', '.', 'a', 'former', 'captain', 'in', 'all', 'format', ',', 'kohli', 'retired', 'from', 'twenty20', 'international', '(', 't20i', ')', 'following', 'india', \"'s\", 'win', 'at', 'the', '2024', 't20', 'world', 'cup', '.', 'he', 'is', 'a', 'right-handed', 'batsman', 'and', 'an', 'occasional', 'unorthodox', 'right', 'arm', 'quick', 'bowler', '.', 'he', 'represents', 'royal', 'challengers', 'bengaluru', 'in', 'the', 'indian', 'premier', 'league', '(', 'ipl', ')', 'and', 'delhi', 'in', 'domestic', 'cricket', '.', 'he', 'hold', 'the', 'record', 'a', 'the', 'highest', 'run-scorer', 'in', 'ipl', ',', 'rank', 'third', 'in', 't20i', ',', 'third', 'in', 'odi', ',', 'and', 'stand', 'a', 'the', 'fourth-highest', 'in', 'international', 'cricket', '.', '[', '5', ']', 'he', 'also', 'hold', 'the', 'record', 'for', 'scoring', 'the', 'most', 'century', 'in', 'odi', 'cricket', 'and', 'stand', 'second', 'in', 'the', 'list', 'of', 'most', 'international', 'century', 'scored', '.', 'kohli', 'is', 'widely', 'regarded', 'a', 'one', 'of', 'the', 'greatest', 'batsman', 'of', 'all', 'time', 'and', 'the', 'greatest', 'batsman', 'in', 'the', 'modern', 'era', '.', '[', 'citation', 'needed', ']', 'kohli', 'wa', 'a', 'key', 'member', 'of', 'the', 'indian', 'team', 'that', 'won', 'the', '2011', 'cricket', 'world', 'cup', ',', '2013', 'champions', 'trophy', 'and', '2024', 't20', 'world', 'cup', 'and', 'captained', 'india', 'to', 'win', 'the', 'icc', 'test', 'mace', 'three', 'consecutive', 'time', 'in', '2017', ',', '2018', ',', 'and', '2019', '.']\n",
            "['virat', 'kohli', 'born', '5', 'november', '1988', ')', 'indian', 'international', 'cricketer', 'play', 'test', 'one', 'day', 'international', '(', 'odi', ')', 'cricket', 'indian', 'national', 'team', '.', 'former', 'captain', 'format', ',', 'kohli', 'retired', 'twenty20', 'international', '(', 't20i', ')', 'following', 'india', \"'s\", 'win', '2024', 't20', 'world', 'cup', '.', 'right-handed', 'batsman', 'occasional', 'unorthodox', 'right', 'arm', 'quick', 'bowler', '.', 'represents', 'royal', 'challengers', 'bengaluru', 'indian', 'premier', 'league', '(', 'ipl', ')', 'delhi', 'domestic', 'cricket', '.', 'hold', 'record', 'highest', 'run-scorer', 'ipl', ',', 'rank', 'third', 't20i', ',', 'third', 'odi', ',', 'stand', 'fourth-highest', 'international', 'cricket', '.', '[', '5', ']', 'also', 'hold', 'record', 'scoring', 'century', 'odi', 'cricket', 'stand', 'second', 'list', 'international', 'century', 'scored', '.', 'kohli', 'widely', 'regarded', 'one', 'greatest', 'batsman', 'time', 'greatest', 'batsman', 'modern', 'era', '.', '[', 'citation', 'needed', ']', 'kohli', 'wa', 'key', 'member', 'indian', 'team', '2011', 'cricket', 'world', 'cup', ',', '2013', 'champions', 'trophy', '2024', 't20', 'world', 'cup', 'captained', 'india', 'win', 'icc', 'test', 'mace', 'three', 'consecutive', 'time', '2017', ',', '2018', ',', '2019', '.']\n"
          ]
        }
      ]
    },
    {
      "cell_type": "markdown",
      "source": [
        "# **Parts of Speech**"
      ],
      "metadata": {
        "id": "9zGZWW6W-g7y"
      }
    },
    {
      "cell_type": "code",
      "source": [
        "print(corpus)"
      ],
      "metadata": {
        "colab": {
          "base_uri": "https://localhost:8080/"
        },
        "id": "mj4YQN_77M58",
        "outputId": "d615f30b-1928-4fbc-cf2b-30f83ed2ca99"
      },
      "execution_count": null,
      "outputs": [
        {
          "output_type": "stream",
          "name": "stdout",
          "text": [
            "Virat Kohli born 5 November 1988) is an Indian international cricketer who plays Test and One Day International (ODI) cricket for the Indian \n",
            "national team. A former captain in all formats, Kohli retired from Twenty20 International (T20I) following India's win at the 2024 T20 World Cup. He is a right-handed batsman and an occasional unorthodox right arm quick bowler. He represents \n",
            "Royal Challengers Bengaluru in the Indian Premier League (IPL) and Delhi in domestic cricket. He holds the record as the highest run-scorer in IPL, \n",
            "ranks third in T20I, third in ODI, and stands as the fourth-highest in international cricket.[5] He also holds the record for scoring the most \n",
            "centuries in ODI cricket and stands second in the list of most international centuries scored. Kohli is widely regarded as one of the greatest \n",
            "batsmen of all time and the greatest batsman in the modern era.[citation needed] Kohli was a key member of the Indian team that won the 2011 Cricket\n",
            " World Cup, 2013 Champions Trophy and 2024 T20 World Cup and captained India to win the ICC Test mace three consecutive times in 2017, 2018, and \n",
            " 2019.\n"
          ]
        }
      ]
    },
    {
      "cell_type": "code",
      "source": [
        "nltk.download('averaged_perceptron_tagger')"
      ],
      "metadata": {
        "colab": {
          "base_uri": "https://localhost:8080/"
        },
        "id": "ogyeDW02_m88",
        "outputId": "9aba80eb-e881-4143-a355-afb1ee6179ed"
      },
      "execution_count": null,
      "outputs": [
        {
          "output_type": "stream",
          "name": "stderr",
          "text": [
            "[nltk_data] Downloading package averaged_perceptron_tagger to\n",
            "[nltk_data]     /root/nltk_data...\n",
            "[nltk_data]   Unzipping taggers/averaged_perceptron_tagger.zip.\n"
          ]
        },
        {
          "output_type": "execute_result",
          "data": {
            "text/plain": [
              "True"
            ]
          },
          "metadata": {},
          "execution_count": 53
        }
      ]
    },
    {
      "cell_type": "code",
      "source": [
        "\n",
        "from nltk import pos_tag\n",
        "words=nltk.word_tokenize(corpus)\n",
        "\n",
        "pos=pos_tag(words)\n",
        "\n",
        "pos"
      ],
      "metadata": {
        "colab": {
          "base_uri": "https://localhost:8080/"
        },
        "id": "np4155nq-qh6",
        "outputId": "5b2fe818-8cd8-488a-eade-8203d34a10a5"
      },
      "execution_count": null,
      "outputs": [
        {
          "output_type": "execute_result",
          "data": {
            "text/plain": [
              "[('Virat', 'NNP'),\n",
              " ('Kohli', 'NNP'),\n",
              " ('born', 'VBD'),\n",
              " ('5', 'CD'),\n",
              " ('November', 'NNP'),\n",
              " ('1988', 'CD'),\n",
              " (')', ')'),\n",
              " ('is', 'VBZ'),\n",
              " ('an', 'DT'),\n",
              " ('Indian', 'JJ'),\n",
              " ('international', 'JJ'),\n",
              " ('cricketer', 'NN'),\n",
              " ('who', 'WP'),\n",
              " ('plays', 'VBZ'),\n",
              " ('Test', 'NNP'),\n",
              " ('and', 'CC'),\n",
              " ('One', 'NNP'),\n",
              " ('Day', 'NNP'),\n",
              " ('International', 'NNP'),\n",
              " ('(', '('),\n",
              " ('ODI', 'NNP'),\n",
              " (')', ')'),\n",
              " ('cricket', 'NN'),\n",
              " ('for', 'IN'),\n",
              " ('the', 'DT'),\n",
              " ('Indian', 'JJ'),\n",
              " ('national', 'JJ'),\n",
              " ('team', 'NN'),\n",
              " ('.', '.'),\n",
              " ('A', 'DT'),\n",
              " ('former', 'JJ'),\n",
              " ('captain', 'NN'),\n",
              " ('in', 'IN'),\n",
              " ('all', 'DT'),\n",
              " ('formats', 'NNS'),\n",
              " (',', ','),\n",
              " ('Kohli', 'NNP'),\n",
              " ('retired', 'VBD'),\n",
              " ('from', 'IN'),\n",
              " ('Twenty20', 'NNP'),\n",
              " ('International', 'NNP'),\n",
              " ('(', '('),\n",
              " ('T20I', 'NNP'),\n",
              " (')', ')'),\n",
              " ('following', 'VBG'),\n",
              " ('India', 'NNP'),\n",
              " (\"'s\", 'POS'),\n",
              " ('win', 'NN'),\n",
              " ('at', 'IN'),\n",
              " ('the', 'DT'),\n",
              " ('2024', 'CD'),\n",
              " ('T20', 'NNP'),\n",
              " ('World', 'NNP'),\n",
              " ('Cup', 'NNP'),\n",
              " ('.', '.'),\n",
              " ('He', 'PRP'),\n",
              " ('is', 'VBZ'),\n",
              " ('a', 'DT'),\n",
              " ('right-handed', 'JJ'),\n",
              " ('batsman', 'NN'),\n",
              " ('and', 'CC'),\n",
              " ('an', 'DT'),\n",
              " ('occasional', 'JJ'),\n",
              " ('unorthodox', 'NN'),\n",
              " ('right', 'JJ'),\n",
              " ('arm', 'NN'),\n",
              " ('quick', 'NN'),\n",
              " ('bowler', 'NN'),\n",
              " ('.', '.'),\n",
              " ('He', 'PRP'),\n",
              " ('represents', 'VBZ'),\n",
              " ('Royal', 'JJ'),\n",
              " ('Challengers', 'NNS'),\n",
              " ('Bengaluru', 'NNP'),\n",
              " ('in', 'IN'),\n",
              " ('the', 'DT'),\n",
              " ('Indian', 'JJ'),\n",
              " ('Premier', 'NNP'),\n",
              " ('League', 'NNP'),\n",
              " ('(', '('),\n",
              " ('IPL', 'NNP'),\n",
              " (')', ')'),\n",
              " ('and', 'CC'),\n",
              " ('Delhi', 'NNP'),\n",
              " ('in', 'IN'),\n",
              " ('domestic', 'JJ'),\n",
              " ('cricket', 'NN'),\n",
              " ('.', '.'),\n",
              " ('He', 'PRP'),\n",
              " ('holds', 'VBZ'),\n",
              " ('the', 'DT'),\n",
              " ('record', 'NN'),\n",
              " ('as', 'IN'),\n",
              " ('the', 'DT'),\n",
              " ('highest', 'JJS'),\n",
              " ('run-scorer', 'NN'),\n",
              " ('in', 'IN'),\n",
              " ('IPL', 'NNP'),\n",
              " (',', ','),\n",
              " ('ranks', 'VBZ'),\n",
              " ('third', 'JJ'),\n",
              " ('in', 'IN'),\n",
              " ('T20I', 'NNP'),\n",
              " (',', ','),\n",
              " ('third', 'JJ'),\n",
              " ('in', 'IN'),\n",
              " ('ODI', 'NNP'),\n",
              " (',', ','),\n",
              " ('and', 'CC'),\n",
              " ('stands', 'VBZ'),\n",
              " ('as', 'IN'),\n",
              " ('the', 'DT'),\n",
              " ('fourth-highest', 'NN'),\n",
              " ('in', 'IN'),\n",
              " ('international', 'JJ'),\n",
              " ('cricket', 'NN'),\n",
              " ('.', '.'),\n",
              " ('[', 'CC'),\n",
              " ('5', 'CD'),\n",
              " (']', 'NN'),\n",
              " ('He', 'PRP'),\n",
              " ('also', 'RB'),\n",
              " ('holds', 'VBZ'),\n",
              " ('the', 'DT'),\n",
              " ('record', 'NN'),\n",
              " ('for', 'IN'),\n",
              " ('scoring', 'VBG'),\n",
              " ('the', 'DT'),\n",
              " ('most', 'RBS'),\n",
              " ('centuries', 'NNS'),\n",
              " ('in', 'IN'),\n",
              " ('ODI', 'NNP'),\n",
              " ('cricket', 'NN'),\n",
              " ('and', 'CC'),\n",
              " ('stands', 'VBZ'),\n",
              " ('second', 'JJ'),\n",
              " ('in', 'IN'),\n",
              " ('the', 'DT'),\n",
              " ('list', 'NN'),\n",
              " ('of', 'IN'),\n",
              " ('most', 'JJS'),\n",
              " ('international', 'JJ'),\n",
              " ('centuries', 'NNS'),\n",
              " ('scored', 'VBN'),\n",
              " ('.', '.'),\n",
              " ('Kohli', 'NNP'),\n",
              " ('is', 'VBZ'),\n",
              " ('widely', 'RB'),\n",
              " ('regarded', 'VBN'),\n",
              " ('as', 'IN'),\n",
              " ('one', 'CD'),\n",
              " ('of', 'IN'),\n",
              " ('the', 'DT'),\n",
              " ('greatest', 'JJS'),\n",
              " ('batsmen', 'NNS'),\n",
              " ('of', 'IN'),\n",
              " ('all', 'DT'),\n",
              " ('time', 'NN'),\n",
              " ('and', 'CC'),\n",
              " ('the', 'DT'),\n",
              " ('greatest', 'JJS'),\n",
              " ('batsman', 'NN'),\n",
              " ('in', 'IN'),\n",
              " ('the', 'DT'),\n",
              " ('modern', 'JJ'),\n",
              " ('era', 'NN'),\n",
              " ('.', '.'),\n",
              " ('[', 'CC'),\n",
              " ('citation', 'NN'),\n",
              " ('needed', 'VBN'),\n",
              " (']', 'NNP'),\n",
              " ('Kohli', 'NNP'),\n",
              " ('was', 'VBD'),\n",
              " ('a', 'DT'),\n",
              " ('key', 'JJ'),\n",
              " ('member', 'NN'),\n",
              " ('of', 'IN'),\n",
              " ('the', 'DT'),\n",
              " ('Indian', 'JJ'),\n",
              " ('team', 'NN'),\n",
              " ('that', 'WDT'),\n",
              " ('won', 'VBD'),\n",
              " ('the', 'DT'),\n",
              " ('2011', 'CD'),\n",
              " ('Cricket', 'NNP'),\n",
              " ('World', 'NNP'),\n",
              " ('Cup', 'NNP'),\n",
              " (',', ','),\n",
              " ('2013', 'CD'),\n",
              " ('Champions', 'NNP'),\n",
              " ('Trophy', 'NNP'),\n",
              " ('and', 'CC'),\n",
              " ('2024', 'CD'),\n",
              " ('T20', 'NNP'),\n",
              " ('World', 'NNP'),\n",
              " ('Cup', 'NNP'),\n",
              " ('and', 'CC'),\n",
              " ('captained', 'VBD'),\n",
              " ('India', 'NNP'),\n",
              " ('to', 'TO'),\n",
              " ('win', 'VB'),\n",
              " ('the', 'DT'),\n",
              " ('ICC', 'NNP'),\n",
              " ('Test', 'NNP'),\n",
              " ('mace', 'NN'),\n",
              " ('three', 'CD'),\n",
              " ('consecutive', 'JJ'),\n",
              " ('times', 'NNS'),\n",
              " ('in', 'IN'),\n",
              " ('2017', 'CD'),\n",
              " (',', ','),\n",
              " ('2018', 'CD'),\n",
              " (',', ','),\n",
              " ('and', 'CC'),\n",
              " ('2019', 'CD'),\n",
              " ('.', '.')]"
            ]
          },
          "metadata": {},
          "execution_count": 57
        }
      ]
    },
    {
      "cell_type": "markdown",
      "source": [
        "# **Named Entity Recognition**"
      ],
      "metadata": {
        "id": "7Kix_FeQAGhp"
      }
    },
    {
      "cell_type": "code",
      "source": [
        "nltk.download('maxent_ne_chunker')"
      ],
      "metadata": {
        "colab": {
          "base_uri": "https://localhost:8080/"
        },
        "id": "ZA5K8Z9QAYmF",
        "outputId": "f676d0dd-ebbc-4a71-90c4-0fbd8922426a"
      },
      "execution_count": null,
      "outputs": [
        {
          "output_type": "stream",
          "name": "stderr",
          "text": [
            "[nltk_data] Downloading package maxent_ne_chunker to\n",
            "[nltk_data]     /root/nltk_data...\n",
            "[nltk_data]   Unzipping chunkers/maxent_ne_chunker.zip.\n"
          ]
        },
        {
          "output_type": "execute_result",
          "data": {
            "text/plain": [
              "True"
            ]
          },
          "metadata": {},
          "execution_count": 60
        }
      ]
    },
    {
      "cell_type": "code",
      "source": [
        "nltk.download('words')"
      ],
      "metadata": {
        "colab": {
          "base_uri": "https://localhost:8080/"
        },
        "id": "MKKNuGeWAecc",
        "outputId": "650f5e3e-2a4f-4760-91d2-d2a184038083"
      },
      "execution_count": null,
      "outputs": [
        {
          "output_type": "stream",
          "name": "stderr",
          "text": [
            "[nltk_data] Downloading package words to /root/nltk_data...\n",
            "[nltk_data]   Unzipping corpora/words.zip.\n"
          ]
        },
        {
          "output_type": "execute_result",
          "data": {
            "text/plain": [
              "True"
            ]
          },
          "metadata": {},
          "execution_count": 62
        }
      ]
    },
    {
      "cell_type": "code",
      "source": [
        "pip install svgling"
      ],
      "metadata": {
        "colab": {
          "base_uri": "https://localhost:8080/"
        },
        "id": "8moJUdCPBUON",
        "outputId": "85a6dd5d-7927-4e06-90a8-df0a14704d34"
      },
      "execution_count": null,
      "outputs": [
        {
          "output_type": "stream",
          "name": "stdout",
          "text": [
            "Collecting svgling\n",
            "  Downloading svgling-0.5.0-py3-none-any.whl.metadata (7.4 kB)\n",
            "Collecting svgwrite (from svgling)\n",
            "  Downloading svgwrite-1.4.3-py3-none-any.whl.metadata (8.8 kB)\n",
            "Downloading svgling-0.5.0-py3-none-any.whl (31 kB)\n",
            "Downloading svgwrite-1.4.3-py3-none-any.whl (67 kB)\n",
            "\u001b[2K   \u001b[90m━━━━━━━━━━━━━━━━━━━━━━━━━━━━━━━━━━━━━━━━\u001b[0m \u001b[32m67.1/67.1 kB\u001b[0m \u001b[31m1.3 MB/s\u001b[0m eta \u001b[36m0:00:00\u001b[0m\n",
            "\u001b[?25hInstalling collected packages: svgwrite, svgling\n",
            "Successfully installed svgling-0.5.0 svgwrite-1.4.3\n"
          ]
        }
      ]
    },
    {
      "cell_type": "code",
      "source": [
        "from nltk import ne_chunk\n",
        "from nltk import pos_tag\n",
        "words=nltk.word_tokenize(corpus)\n",
        "pos=pos_tag(words)\n",
        "ne=ne_chunk(pos)\n",
        "print(ne)"
      ],
      "metadata": {
        "colab": {
          "base_uri": "https://localhost:8080/"
        },
        "id": "zHFaO_z2__dJ",
        "outputId": "2bdbefd1-6a21-4176-adef-f6f15f23b058"
      },
      "execution_count": null,
      "outputs": [
        {
          "output_type": "stream",
          "name": "stdout",
          "text": [
            "(S\n",
            "  (PERSON Virat/NNP)\n",
            "  (PERSON Kohli/NNP)\n",
            "  born/VBD\n",
            "  5/CD\n",
            "  November/NNP\n",
            "  1988/CD\n",
            "  )/)\n",
            "  is/VBZ\n",
            "  an/DT\n",
            "  (GPE Indian/JJ)\n",
            "  international/JJ\n",
            "  cricketer/NN\n",
            "  who/WP\n",
            "  plays/VBZ\n",
            "  (PERSON Test/NNP)\n",
            "  and/CC\n",
            "  (PERSON One/NNP)\n",
            "  Day/NNP\n",
            "  International/NNP\n",
            "  (/(\n",
            "  (ORGANIZATION ODI/NNP)\n",
            "  )/)\n",
            "  cricket/NN\n",
            "  for/IN\n",
            "  the/DT\n",
            "  (GPE Indian/JJ)\n",
            "  national/JJ\n",
            "  team/NN\n",
            "  ./.\n",
            "  A/DT\n",
            "  former/JJ\n",
            "  captain/NN\n",
            "  in/IN\n",
            "  all/DT\n",
            "  formats/NNS\n",
            "  ,/,\n",
            "  (PERSON Kohli/NNP)\n",
            "  retired/VBD\n",
            "  from/IN\n",
            "  (ORGANIZATION Twenty20/NNP International/NNP)\n",
            "  (/(\n",
            "  (ORGANIZATION T20I/NNP)\n",
            "  )/)\n",
            "  following/VBG\n",
            "  (GPE India/NNP)\n",
            "  's/POS\n",
            "  win/NN\n",
            "  at/IN\n",
            "  the/DT\n",
            "  2024/CD\n",
            "  T20/NNP\n",
            "  World/NNP\n",
            "  Cup/NNP\n",
            "  ./.\n",
            "  He/PRP\n",
            "  is/VBZ\n",
            "  a/DT\n",
            "  right-handed/JJ\n",
            "  batsman/NN\n",
            "  and/CC\n",
            "  an/DT\n",
            "  occasional/JJ\n",
            "  unorthodox/NN\n",
            "  right/JJ\n",
            "  arm/NN\n",
            "  quick/NN\n",
            "  bowler/NN\n",
            "  ./.\n",
            "  He/PRP\n",
            "  represents/VBZ\n",
            "  (ORGANIZATION Royal/JJ)\n",
            "  Challengers/NNS\n",
            "  (PERSON Bengaluru/NNP)\n",
            "  in/IN\n",
            "  the/DT\n",
            "  (GPE Indian/JJ)\n",
            "  Premier/NNP\n",
            "  League/NNP\n",
            "  (/(\n",
            "  (ORGANIZATION IPL/NNP)\n",
            "  )/)\n",
            "  and/CC\n",
            "  (GPE Delhi/NNP)\n",
            "  in/IN\n",
            "  domestic/JJ\n",
            "  cricket/NN\n",
            "  ./.\n",
            "  He/PRP\n",
            "  holds/VBZ\n",
            "  the/DT\n",
            "  record/NN\n",
            "  as/IN\n",
            "  the/DT\n",
            "  highest/JJS\n",
            "  run-scorer/NN\n",
            "  in/IN\n",
            "  (ORGANIZATION IPL/NNP)\n",
            "  ,/,\n",
            "  ranks/VBZ\n",
            "  third/JJ\n",
            "  in/IN\n",
            "  (GPE T20I/NNP)\n",
            "  ,/,\n",
            "  third/JJ\n",
            "  in/IN\n",
            "  (ORGANIZATION ODI/NNP)\n",
            "  ,/,\n",
            "  and/CC\n",
            "  stands/VBZ\n",
            "  as/IN\n",
            "  the/DT\n",
            "  fourth-highest/NN\n",
            "  in/IN\n",
            "  international/JJ\n",
            "  cricket/NN\n",
            "  ./.\n",
            "  [/CC\n",
            "  5/CD\n",
            "  ]/NN\n",
            "  He/PRP\n",
            "  also/RB\n",
            "  holds/VBZ\n",
            "  the/DT\n",
            "  record/NN\n",
            "  for/IN\n",
            "  scoring/VBG\n",
            "  the/DT\n",
            "  most/RBS\n",
            "  centuries/NNS\n",
            "  in/IN\n",
            "  (ORGANIZATION ODI/NNP)\n",
            "  cricket/NN\n",
            "  and/CC\n",
            "  stands/VBZ\n",
            "  second/JJ\n",
            "  in/IN\n",
            "  the/DT\n",
            "  list/NN\n",
            "  of/IN\n",
            "  most/JJS\n",
            "  international/JJ\n",
            "  centuries/NNS\n",
            "  scored/VBN\n",
            "  ./.\n",
            "  (PERSON Kohli/NNP)\n",
            "  is/VBZ\n",
            "  widely/RB\n",
            "  regarded/VBN\n",
            "  as/IN\n",
            "  one/CD\n",
            "  of/IN\n",
            "  the/DT\n",
            "  greatest/JJS\n",
            "  batsmen/NNS\n",
            "  of/IN\n",
            "  all/DT\n",
            "  time/NN\n",
            "  and/CC\n",
            "  the/DT\n",
            "  greatest/JJS\n",
            "  batsman/NN\n",
            "  in/IN\n",
            "  the/DT\n",
            "  modern/JJ\n",
            "  era/NN\n",
            "  ./.\n",
            "  [/CC\n",
            "  citation/NN\n",
            "  needed/VBN\n",
            "  ]/NNP\n",
            "  (PERSON Kohli/NNP)\n",
            "  was/VBD\n",
            "  a/DT\n",
            "  key/JJ\n",
            "  member/NN\n",
            "  of/IN\n",
            "  the/DT\n",
            "  (GPE Indian/JJ)\n",
            "  team/NN\n",
            "  that/WDT\n",
            "  won/VBD\n",
            "  the/DT\n",
            "  2011/CD\n",
            "  Cricket/NNP\n",
            "  World/NNP\n",
            "  Cup/NNP\n",
            "  ,/,\n",
            "  2013/CD\n",
            "  Champions/NNP\n",
            "  Trophy/NNP\n",
            "  and/CC\n",
            "  2024/CD\n",
            "  T20/NNP\n",
            "  World/NNP\n",
            "  Cup/NNP\n",
            "  and/CC\n",
            "  captained/VBD\n",
            "  (GPE India/NNP)\n",
            "  to/TO\n",
            "  win/VB\n",
            "  the/DT\n",
            "  (ORGANIZATION ICC/NNP Test/NNP)\n",
            "  mace/NN\n",
            "  three/CD\n",
            "  consecutive/JJ\n",
            "  times/NNS\n",
            "  in/IN\n",
            "  2017/CD\n",
            "  ,/,\n",
            "  2018/CD\n",
            "  ,/,\n",
            "  and/CC\n",
            "  2019/CD\n",
            "  ./.)\n"
          ]
        }
      ]
    },
    {
      "cell_type": "markdown",
      "source": [
        "# **Bag of Words**"
      ],
      "metadata": {
        "id": "-M0UToMdCRNL"
      }
    },
    {
      "cell_type": "code",
      "source": [
        "words=nltk.word_tokenize(corpus)\n",
        "print(words)\n",
        "from nltk.stem import WordNetLemmatizer\n",
        "wnl=WordNetLemmatizer()\n",
        "up_words=[wnl.lemmatize(word).lower() for word in words ]\n",
        "print(up_words)\n",
        "words=[word for word in up_words if word not in nltk.corpus.stopwords.words('english')]\n",
        "print(words)\n",
        "\n"
      ],
      "metadata": {
        "colab": {
          "base_uri": "https://localhost:8080/"
        },
        "id": "Co39lg7-AVkv",
        "outputId": "cef315c6-6120-4372-e5d2-a58e0a1ba33c"
      },
      "execution_count": null,
      "outputs": [
        {
          "output_type": "stream",
          "name": "stdout",
          "text": [
            "['Virat', 'Kohli', 'born', '5', 'November', '1988', ')', 'is', 'an', 'Indian', 'international', 'cricketer', 'who', 'plays', 'Test', 'and', 'One', 'Day', 'International', '(', 'ODI', ')', 'cricket', 'for', 'the', 'Indian', 'national', 'team', '.', 'A', 'former', 'captain', 'in', 'all', 'formats', ',', 'Kohli', 'retired', 'from', 'Twenty20', 'International', '(', 'T20I', ')', 'following', 'India', \"'s\", 'win', 'at', 'the', '2024', 'T20', 'World', 'Cup', '.', 'He', 'is', 'a', 'right-handed', 'batsman', 'and', 'an', 'occasional', 'unorthodox', 'right', 'arm', 'quick', 'bowler', '.', 'He', 'represents', 'Royal', 'Challengers', 'Bengaluru', 'in', 'the', 'Indian', 'Premier', 'League', '(', 'IPL', ')', 'and', 'Delhi', 'in', 'domestic', 'cricket', '.', 'He', 'holds', 'the', 'record', 'as', 'the', 'highest', 'run-scorer', 'in', 'IPL', ',', 'ranks', 'third', 'in', 'T20I', ',', 'third', 'in', 'ODI', ',', 'and', 'stands', 'as', 'the', 'fourth-highest', 'in', 'international', 'cricket', '.', '[', '5', ']', 'He', 'also', 'holds', 'the', 'record', 'for', 'scoring', 'the', 'most', 'centuries', 'in', 'ODI', 'cricket', 'and', 'stands', 'second', 'in', 'the', 'list', 'of', 'most', 'international', 'centuries', 'scored', '.', 'Kohli', 'is', 'widely', 'regarded', 'as', 'one', 'of', 'the', 'greatest', 'batsmen', 'of', 'all', 'time', 'and', 'the', 'greatest', 'batsman', 'in', 'the', 'modern', 'era', '.', '[', 'citation', 'needed', ']', 'Kohli', 'was', 'a', 'key', 'member', 'of', 'the', 'Indian', 'team', 'that', 'won', 'the', '2011', 'Cricket', 'World', 'Cup', ',', '2013', 'Champions', 'Trophy', 'and', '2024', 'T20', 'World', 'Cup', 'and', 'captained', 'India', 'to', 'win', 'the', 'ICC', 'Test', 'mace', 'three', 'consecutive', 'times', 'in', '2017', ',', '2018', ',', 'and', '2019', '.']\n",
            "['virat', 'kohli', 'born', '5', 'november', '1988', ')', 'is', 'an', 'indian', 'international', 'cricketer', 'who', 'play', 'test', 'and', 'one', 'day', 'international', '(', 'odi', ')', 'cricket', 'for', 'the', 'indian', 'national', 'team', '.', 'a', 'former', 'captain', 'in', 'all', 'format', ',', 'kohli', 'retired', 'from', 'twenty20', 'international', '(', 't20i', ')', 'following', 'india', \"'s\", 'win', 'at', 'the', '2024', 't20', 'world', 'cup', '.', 'he', 'is', 'a', 'right-handed', 'batsman', 'and', 'an', 'occasional', 'unorthodox', 'right', 'arm', 'quick', 'bowler', '.', 'he', 'represents', 'royal', 'challengers', 'bengaluru', 'in', 'the', 'indian', 'premier', 'league', '(', 'ipl', ')', 'and', 'delhi', 'in', 'domestic', 'cricket', '.', 'he', 'hold', 'the', 'record', 'a', 'the', 'highest', 'run-scorer', 'in', 'ipl', ',', 'rank', 'third', 'in', 't20i', ',', 'third', 'in', 'odi', ',', 'and', 'stand', 'a', 'the', 'fourth-highest', 'in', 'international', 'cricket', '.', '[', '5', ']', 'he', 'also', 'hold', 'the', 'record', 'for', 'scoring', 'the', 'most', 'century', 'in', 'odi', 'cricket', 'and', 'stand', 'second', 'in', 'the', 'list', 'of', 'most', 'international', 'century', 'scored', '.', 'kohli', 'is', 'widely', 'regarded', 'a', 'one', 'of', 'the', 'greatest', 'batsman', 'of', 'all', 'time', 'and', 'the', 'greatest', 'batsman', 'in', 'the', 'modern', 'era', '.', '[', 'citation', 'needed', ']', 'kohli', 'wa', 'a', 'key', 'member', 'of', 'the', 'indian', 'team', 'that', 'won', 'the', '2011', 'cricket', 'world', 'cup', ',', '2013', 'champions', 'trophy', 'and', '2024', 't20', 'world', 'cup', 'and', 'captained', 'india', 'to', 'win', 'the', 'icc', 'test', 'mace', 'three', 'consecutive', 'time', 'in', '2017', ',', '2018', ',', 'and', '2019', '.']\n",
            "['virat', 'kohli', 'born', '5', 'november', '1988', ')', 'indian', 'international', 'cricketer', 'play', 'test', 'one', 'day', 'international', '(', 'odi', ')', 'cricket', 'indian', 'national', 'team', '.', 'former', 'captain', 'format', ',', 'kohli', 'retired', 'twenty20', 'international', '(', 't20i', ')', 'following', 'india', \"'s\", 'win', '2024', 't20', 'world', 'cup', '.', 'right-handed', 'batsman', 'occasional', 'unorthodox', 'right', 'arm', 'quick', 'bowler', '.', 'represents', 'royal', 'challengers', 'bengaluru', 'indian', 'premier', 'league', '(', 'ipl', ')', 'delhi', 'domestic', 'cricket', '.', 'hold', 'record', 'highest', 'run-scorer', 'ipl', ',', 'rank', 'third', 't20i', ',', 'third', 'odi', ',', 'stand', 'fourth-highest', 'international', 'cricket', '.', '[', '5', ']', 'also', 'hold', 'record', 'scoring', 'century', 'odi', 'cricket', 'stand', 'second', 'list', 'international', 'century', 'scored', '.', 'kohli', 'widely', 'regarded', 'one', 'greatest', 'batsman', 'time', 'greatest', 'batsman', 'modern', 'era', '.', '[', 'citation', 'needed', ']', 'kohli', 'wa', 'key', 'member', 'indian', 'team', '2011', 'cricket', 'world', 'cup', ',', '2013', 'champions', 'trophy', '2024', 't20', 'world', 'cup', 'captained', 'india', 'win', 'icc', 'test', 'mace', 'three', 'consecutive', 'time', '2017', ',', '2018', ',', '2019', '.']\n"
          ]
        }
      ]
    },
    {
      "cell_type": "code",
      "source": [
        "from sklearn.feature_extraction.text import CountVectorizer\n",
        "cv=CountVectorizer(max_features=80)\n",
        "result=cv.fit_transform(words).toarray()\n",
        "print(result)\n",
        "print(result.shape)"
      ],
      "metadata": {
        "colab": {
          "base_uri": "https://localhost:8080/"
        },
        "id": "6hNsbB08Daq1",
        "outputId": "69a22d75-9082-4a77-8300-5285a1091dac"
      },
      "execution_count": null,
      "outputs": [
        {
          "output_type": "stream",
          "name": "stdout",
          "text": [
            "[[0 0 0 ... 0 0 0]\n",
            " [0 0 0 ... 0 0 0]\n",
            " [0 0 0 ... 0 0 0]\n",
            " ...\n",
            " [0 0 0 ... 0 0 0]\n",
            " [0 0 0 ... 0 0 0]\n",
            " [0 0 0 ... 0 0 0]]\n",
            "(150, 80)\n"
          ]
        }
      ]
    },
    {
      "cell_type": "code",
      "source": [
        "cv=CountVectorizer(max_features=30)\n",
        "result=cv.fit_transform(words).toarray()\n",
        "print(result)\n",
        "print(result.shape)"
      ],
      "metadata": {
        "colab": {
          "base_uri": "https://localhost:8080/"
        },
        "id": "otw0WV-DDwNs",
        "outputId": "609b066a-cf80-4169-9bfe-45793f94f616"
      },
      "execution_count": null,
      "outputs": [
        {
          "output_type": "stream",
          "name": "stdout",
          "text": [
            "[[0 0 0 ... 0 0 0]\n",
            " [0 0 0 ... 0 0 0]\n",
            " [0 0 0 ... 0 0 0]\n",
            " ...\n",
            " [0 0 0 ... 0 0 0]\n",
            " [0 0 0 ... 0 0 0]\n",
            " [0 0 0 ... 0 0 0]]\n",
            "(150, 30)\n"
          ]
        }
      ]
    },
    {
      "cell_type": "code",
      "source": [
        "cv.vocabulary_"
      ],
      "metadata": {
        "colab": {
          "base_uri": "https://localhost:8080/"
        },
        "id": "n7Vf9HewEcK-",
        "outputId": "795d114d-59a7-49cc-b137-e517502494f3"
      },
      "execution_count": null,
      "outputs": [
        {
          "output_type": "execute_result",
          "data": {
            "text/plain": [
              "{'kohli': 12,\n",
              " 'indian': 9,\n",
              " 'international': 10,\n",
              " 'test': 25,\n",
              " 'one': 14,\n",
              " 'odi': 13,\n",
              " 'cricket': 3,\n",
              " 'team': 24,\n",
              " 't20i': 23,\n",
              " 'india': 8,\n",
              " 'win': 28,\n",
              " '2024': 0,\n",
              " 't20': 22,\n",
              " 'world': 29,\n",
              " 'cup': 4,\n",
              " 'right': 20,\n",
              " 'batsman': 1,\n",
              " 'quick': 16,\n",
              " 'premier': 15,\n",
              " 'ipl': 11,\n",
              " 'hold': 7,\n",
              " 'record': 18,\n",
              " 'highest': 6,\n",
              " 'rank': 17,\n",
              " 'third': 26,\n",
              " 'stand': 21,\n",
              " 'century': 2,\n",
              " 'regarded': 19,\n",
              " 'greatest': 5,\n",
              " 'time': 27}"
            ]
          },
          "metadata": {},
          "execution_count": 88
        }
      ]
    },
    {
      "cell_type": "markdown",
      "source": [
        "# **ngram**"
      ],
      "metadata": {
        "id": "33BYedU3EWOV"
      }
    },
    {
      "cell_type": "code",
      "source": [
        "cv=CountVectorizer(max_features=50,ngram_range=(1,2))\n",
        "result=cv.fit_transform(words).toarray()\n",
        "print(result)\n",
        "print(result.shape)"
      ],
      "metadata": {
        "colab": {
          "base_uri": "https://localhost:8080/"
        },
        "id": "-RPoIx4xEV6m",
        "outputId": "7d8179b9-8009-493f-9054-cbf3fa3cbada"
      },
      "execution_count": null,
      "outputs": [
        {
          "output_type": "stream",
          "name": "stdout",
          "text": [
            "[[0 0 0 ... 0 0 0]\n",
            " [0 0 0 ... 0 0 0]\n",
            " [0 0 0 ... 0 0 0]\n",
            " ...\n",
            " [0 0 0 ... 0 0 0]\n",
            " [0 0 0 ... 0 0 0]\n",
            " [0 0 0 ... 0 0 0]]\n",
            "(150, 50)\n"
          ]
        }
      ]
    },
    {
      "cell_type": "code",
      "source": [
        "cv.vocabulary_"
      ],
      "metadata": {
        "colab": {
          "base_uri": "https://localhost:8080/"
        },
        "id": "avZXmeSDEzyU",
        "outputId": "ba4df0be-2ec2-4060-b413-e0ef86fd106f"
      },
      "execution_count": null,
      "outputs": [
        {
          "output_type": "execute_result",
          "data": {
            "text/plain": [
              "{'virat': 45,\n",
              " 'kohli': 12,\n",
              " 'november': 13,\n",
              " 'indian': 9,\n",
              " 'international': 10,\n",
              " 'play': 17,\n",
              " 'test': 38,\n",
              " 'one': 16,\n",
              " 'odi': 15,\n",
              " 'cricket': 3,\n",
              " 'team': 37,\n",
              " 'retired': 24,\n",
              " 'twenty20': 43,\n",
              " 't20i': 36,\n",
              " 'india': 8,\n",
              " 'win': 48,\n",
              " '2024': 0,\n",
              " 't20': 35,\n",
              " 'world': 49,\n",
              " 'cup': 4,\n",
              " 'right': 25,\n",
              " 'right handed': 26,\n",
              " 'batsman': 1,\n",
              " 'occasional': 14,\n",
              " 'unorthodox': 44,\n",
              " 'quick': 19,\n",
              " 'represents': 23,\n",
              " 'royal': 27,\n",
              " 'premier': 18,\n",
              " 'ipl': 11,\n",
              " 'hold': 7,\n",
              " 'record': 21,\n",
              " 'highest': 6,\n",
              " 'run': 28,\n",
              " 'scorer': 31,\n",
              " 'run scorer': 29,\n",
              " 'rank': 20,\n",
              " 'third': 39,\n",
              " 'stand': 34,\n",
              " 'scoring': 32,\n",
              " 'century': 2,\n",
              " 'second': 33,\n",
              " 'scored': 30,\n",
              " 'widely': 47,\n",
              " 'regarded': 22,\n",
              " 'greatest': 5,\n",
              " 'time': 41,\n",
              " 'wa': 46,\n",
              " 'trophy': 42,\n",
              " 'three': 40}"
            ]
          },
          "metadata": {},
          "execution_count": 92
        }
      ]
    },
    {
      "cell_type": "code",
      "source": [
        "cv=CountVectorizer(max_features=50,ngram_range=(2,3))\n",
        "result=cv.fit_transform(words).toarray()\n",
        "print(result)\n",
        "print(result.shape)"
      ],
      "metadata": {
        "colab": {
          "base_uri": "https://localhost:8080/"
        },
        "id": "r2blxTDAFBdY",
        "outputId": "753ceccd-203f-4f67-bb1e-018fbb6af89f"
      },
      "execution_count": null,
      "outputs": [
        {
          "output_type": "stream",
          "name": "stdout",
          "text": [
            "[[0 0 0]\n",
            " [0 0 0]\n",
            " [0 0 0]\n",
            " [0 0 0]\n",
            " [0 0 0]\n",
            " [0 0 0]\n",
            " [0 0 0]\n",
            " [0 0 0]\n",
            " [0 0 0]\n",
            " [0 0 0]\n",
            " [0 0 0]\n",
            " [0 0 0]\n",
            " [0 0 0]\n",
            " [0 0 0]\n",
            " [0 0 0]\n",
            " [0 0 0]\n",
            " [0 0 0]\n",
            " [0 0 0]\n",
            " [0 0 0]\n",
            " [0 0 0]\n",
            " [0 0 0]\n",
            " [0 0 0]\n",
            " [0 0 0]\n",
            " [0 0 0]\n",
            " [0 0 0]\n",
            " [0 0 0]\n",
            " [0 0 0]\n",
            " [0 0 0]\n",
            " [0 0 0]\n",
            " [0 0 0]\n",
            " [0 0 0]\n",
            " [0 0 0]\n",
            " [0 0 0]\n",
            " [0 0 0]\n",
            " [0 0 0]\n",
            " [0 0 0]\n",
            " [0 0 0]\n",
            " [0 0 0]\n",
            " [0 0 0]\n",
            " [0 0 0]\n",
            " [0 0 0]\n",
            " [0 0 0]\n",
            " [0 0 0]\n",
            " [0 1 0]\n",
            " [0 0 0]\n",
            " [0 0 0]\n",
            " [0 0 0]\n",
            " [0 0 0]\n",
            " [0 0 0]\n",
            " [0 0 0]\n",
            " [0 0 0]\n",
            " [0 0 0]\n",
            " [0 0 0]\n",
            " [0 0 0]\n",
            " [0 0 0]\n",
            " [0 0 0]\n",
            " [0 0 0]\n",
            " [0 0 0]\n",
            " [0 0 0]\n",
            " [0 0 0]\n",
            " [0 0 0]\n",
            " [0 0 0]\n",
            " [0 0 0]\n",
            " [0 0 0]\n",
            " [0 0 0]\n",
            " [0 0 0]\n",
            " [0 0 0]\n",
            " [0 0 0]\n",
            " [0 0 0]\n",
            " [0 0 1]\n",
            " [0 0 0]\n",
            " [0 0 0]\n",
            " [0 0 0]\n",
            " [0 0 0]\n",
            " [0 0 0]\n",
            " [0 0 0]\n",
            " [0 0 0]\n",
            " [0 0 0]\n",
            " [0 0 0]\n",
            " [0 0 0]\n",
            " [1 0 0]\n",
            " [0 0 0]\n",
            " [0 0 0]\n",
            " [0 0 0]\n",
            " [0 0 0]\n",
            " [0 0 0]\n",
            " [0 0 0]\n",
            " [0 0 0]\n",
            " [0 0 0]\n",
            " [0 0 0]\n",
            " [0 0 0]\n",
            " [0 0 0]\n",
            " [0 0 0]\n",
            " [0 0 0]\n",
            " [0 0 0]\n",
            " [0 0 0]\n",
            " [0 0 0]\n",
            " [0 0 0]\n",
            " [0 0 0]\n",
            " [0 0 0]\n",
            " [0 0 0]\n",
            " [0 0 0]\n",
            " [0 0 0]\n",
            " [0 0 0]\n",
            " [0 0 0]\n",
            " [0 0 0]\n",
            " [0 0 0]\n",
            " [0 0 0]\n",
            " [0 0 0]\n",
            " [0 0 0]\n",
            " [0 0 0]\n",
            " [0 0 0]\n",
            " [0 0 0]\n",
            " [0 0 0]\n",
            " [0 0 0]\n",
            " [0 0 0]\n",
            " [0 0 0]\n",
            " [0 0 0]\n",
            " [0 0 0]\n",
            " [0 0 0]\n",
            " [0 0 0]\n",
            " [0 0 0]\n",
            " [0 0 0]\n",
            " [0 0 0]\n",
            " [0 0 0]\n",
            " [0 0 0]\n",
            " [0 0 0]\n",
            " [0 0 0]\n",
            " [0 0 0]\n",
            " [0 0 0]\n",
            " [0 0 0]\n",
            " [0 0 0]\n",
            " [0 0 0]\n",
            " [0 0 0]\n",
            " [0 0 0]\n",
            " [0 0 0]\n",
            " [0 0 0]\n",
            " [0 0 0]\n",
            " [0 0 0]\n",
            " [0 0 0]\n",
            " [0 0 0]\n",
            " [0 0 0]\n",
            " [0 0 0]\n",
            " [0 0 0]\n",
            " [0 0 0]\n",
            " [0 0 0]\n",
            " [0 0 0]\n",
            " [0 0 0]\n",
            " [0 0 0]\n",
            " [0 0 0]]\n",
            "(150, 3)\n"
          ]
        }
      ]
    },
    {
      "cell_type": "code",
      "source": [
        "cv.vocabulary_"
      ],
      "metadata": {
        "colab": {
          "base_uri": "https://localhost:8080/"
        },
        "id": "gAcktTNeFH4U",
        "outputId": "26e44f89-694c-48e6-95ea-19751ea09439"
      },
      "execution_count": null,
      "outputs": [
        {
          "output_type": "execute_result",
          "data": {
            "text/plain": [
              "{'right handed': 1, 'run scorer': 2, 'fourth highest': 0}"
            ]
          },
          "metadata": {},
          "execution_count": 94
        }
      ]
    },
    {
      "cell_type": "code",
      "source": [
        "from sklearn.feature_extraction.text import TfidfVectorizer\n",
        "cv=TfidfVectorizer(max_features=50)\n",
        "result=cv.fit_transform(words).toarray()\n",
        "print(result)\n",
        "print(result.shape)"
      ],
      "metadata": {
        "colab": {
          "base_uri": "https://localhost:8080/"
        },
        "id": "h9_Z0Rv0EO6b",
        "outputId": "cf19dba3-3462-4dd9-8a3f-690e0de2b81d"
      },
      "execution_count": null,
      "outputs": [
        {
          "output_type": "stream",
          "name": "stdout",
          "text": [
            "[[0. 0. 0. ... 0. 0. 0.]\n",
            " [0. 0. 0. ... 0. 0. 0.]\n",
            " [0. 0. 0. ... 0. 0. 0.]\n",
            " ...\n",
            " [0. 0. 0. ... 0. 0. 0.]\n",
            " [0. 0. 0. ... 0. 0. 0.]\n",
            " [0. 0. 0. ... 0. 0. 0.]]\n",
            "(150, 50)\n"
          ]
        }
      ]
    },
    {
      "cell_type": "code",
      "source": [
        "cv.vocabulary_"
      ],
      "metadata": {
        "colab": {
          "base_uri": "https://localhost:8080/"
        },
        "id": "7lYIrVg-FZBR",
        "outputId": "d1ca2b24-5d2e-4375-d3f1-f398da8ca601"
      },
      "execution_count": null,
      "outputs": [
        {
          "output_type": "execute_result",
          "data": {
            "text/plain": [
              "{'virat': 45,\n",
              " 'kohli': 14,\n",
              " 'indian': 11,\n",
              " 'international': 12,\n",
              " 'play': 19,\n",
              " 'test': 38,\n",
              " 'one': 18,\n",
              " 'odi': 17,\n",
              " 'cricket': 5,\n",
              " 'team': 37,\n",
              " 'retired': 26,\n",
              " 'twenty20': 43,\n",
              " 't20i': 36,\n",
              " 'india': 10,\n",
              " 'win': 48,\n",
              " '2024': 1,\n",
              " 't20': 35,\n",
              " 'world': 49,\n",
              " 'cup': 6,\n",
              " 'right': 27,\n",
              " 'batsman': 3,\n",
              " 'occasional': 16,\n",
              " 'unorthodox': 44,\n",
              " 'arm': 2,\n",
              " 'quick': 21,\n",
              " 'represents': 25,\n",
              " 'royal': 28,\n",
              " 'premier': 20,\n",
              " 'ipl': 13,\n",
              " 'hold': 9,\n",
              " 'record': 23,\n",
              " 'highest': 8,\n",
              " 'run': 29,\n",
              " 'scorer': 31,\n",
              " 'rank': 22,\n",
              " 'third': 39,\n",
              " 'stand': 34,\n",
              " 'scoring': 32,\n",
              " 'century': 4,\n",
              " 'second': 33,\n",
              " 'scored': 30,\n",
              " 'widely': 47,\n",
              " 'regarded': 24,\n",
              " 'greatest': 7,\n",
              " 'time': 41,\n",
              " 'wa': 46,\n",
              " 'member': 15,\n",
              " '2011': 0,\n",
              " 'trophy': 42,\n",
              " 'three': 40}"
            ]
          },
          "metadata": {},
          "execution_count": 98
        }
      ]
    },
    {
      "cell_type": "code",
      "source": [],
      "metadata": {
        "id": "qXgEKpYTFrgO"
      },
      "execution_count": null,
      "outputs": []
    }
  ]
}