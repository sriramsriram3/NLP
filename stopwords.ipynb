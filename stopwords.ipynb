{
 "cells": [
  {
   "cell_type": "code",
   "execution_count": 53,
   "id": "93574f48",
   "metadata": {},
   "outputs": [],
   "source": [
    "corpus=\"\"\"Virat Kohli is an Indian cricketer widely regarded as oneof the best batsmen of his generation.\n",
    "Born on November 5, 1988, in Delhi, Kohli rose to prominence with his aggressive playing style, consistency,\n",
    "and leadership qualities. He captained the Indian cricket team across all formats, achieving numerous records\n",
    "and leading India to significant victories. Known for hisintense passion for the game and remarkable fitness,\n",
    "Kohli has become a global cricket icon and an inspiration to aspiring cricketers around the world.\"\"\""
   ]
  },
  {
   "cell_type": "markdown",
   "id": "cca8678a",
   "metadata": {},
   "source": [
    "# PorterStemmer + Stopwords"
   ]
  },
  {
   "cell_type": "code",
   "execution_count": 54,
   "id": "99acf316",
   "metadata": {},
   "outputs": [
    {
     "name": "stdout",
     "output_type": "stream",
     "text": [
      "['Virat Kohli is an Indian cricketer widely regarded as oneof the best batsmen of his generation.', 'Born on November 5, 1988, in Delhi, Kohli rose to prominence with his aggressive playing style, consistency,\\nand leadership qualities.', 'He captained the Indian cricket team across all formats, achieving numerous records\\nand leading India to significant victories.', 'Known for hisintense passion for the game and remarkable fitness,\\nKohli has become a global cricket icon and an inspiration to aspiring cricketers around the world.']\n"
     ]
    }
   ],
   "source": [
    "#convert them in sentences\n",
    "import nltk\n",
    "sentences=nltk.sent_tokenize(corpus)\n",
    "print(sentences)"
   ]
  },
  {
   "cell_type": "code",
   "execution_count": 55,
   "id": "7fb6c71c",
   "metadata": {},
   "outputs": [
    {
     "data": {
      "text/plain": [
       "['i',\n",
       " 'me',\n",
       " 'my',\n",
       " 'myself',\n",
       " 'we',\n",
       " 'our',\n",
       " 'ours',\n",
       " 'ourselves',\n",
       " 'you',\n",
       " \"you're\",\n",
       " \"you've\",\n",
       " \"you'll\",\n",
       " \"you'd\",\n",
       " 'your',\n",
       " 'yours',\n",
       " 'yourself',\n",
       " 'yourselves',\n",
       " 'he',\n",
       " 'him',\n",
       " 'his',\n",
       " 'himself',\n",
       " 'she',\n",
       " \"she's\",\n",
       " 'her',\n",
       " 'hers',\n",
       " 'herself',\n",
       " 'it',\n",
       " \"it's\",\n",
       " 'its',\n",
       " 'itself',\n",
       " 'they',\n",
       " 'them',\n",
       " 'their',\n",
       " 'theirs',\n",
       " 'themselves',\n",
       " 'what',\n",
       " 'which',\n",
       " 'who',\n",
       " 'whom',\n",
       " 'this',\n",
       " 'that',\n",
       " \"that'll\",\n",
       " 'these',\n",
       " 'those',\n",
       " 'am',\n",
       " 'is',\n",
       " 'are',\n",
       " 'was',\n",
       " 'were',\n",
       " 'be',\n",
       " 'been',\n",
       " 'being',\n",
       " 'have',\n",
       " 'has',\n",
       " 'had',\n",
       " 'having',\n",
       " 'do',\n",
       " 'does',\n",
       " 'did',\n",
       " 'doing',\n",
       " 'a',\n",
       " 'an',\n",
       " 'the',\n",
       " 'and',\n",
       " 'but',\n",
       " 'if',\n",
       " 'or',\n",
       " 'because',\n",
       " 'as',\n",
       " 'until',\n",
       " 'while',\n",
       " 'of',\n",
       " 'at',\n",
       " 'by',\n",
       " 'for',\n",
       " 'with',\n",
       " 'about',\n",
       " 'against',\n",
       " 'between',\n",
       " 'into',\n",
       " 'through',\n",
       " 'during',\n",
       " 'before',\n",
       " 'after',\n",
       " 'above',\n",
       " 'below',\n",
       " 'to',\n",
       " 'from',\n",
       " 'up',\n",
       " 'down',\n",
       " 'in',\n",
       " 'out',\n",
       " 'on',\n",
       " 'off',\n",
       " 'over',\n",
       " 'under',\n",
       " 'again',\n",
       " 'further',\n",
       " 'then',\n",
       " 'once',\n",
       " 'here',\n",
       " 'there',\n",
       " 'when',\n",
       " 'where',\n",
       " 'why',\n",
       " 'how',\n",
       " 'all',\n",
       " 'any',\n",
       " 'both',\n",
       " 'each',\n",
       " 'few',\n",
       " 'more',\n",
       " 'most',\n",
       " 'other',\n",
       " 'some',\n",
       " 'such',\n",
       " 'no',\n",
       " 'nor',\n",
       " 'not',\n",
       " 'only',\n",
       " 'own',\n",
       " 'same',\n",
       " 'so',\n",
       " 'than',\n",
       " 'too',\n",
       " 'very',\n",
       " 's',\n",
       " 't',\n",
       " 'can',\n",
       " 'will',\n",
       " 'just',\n",
       " 'don',\n",
       " \"don't\",\n",
       " 'should',\n",
       " \"should've\",\n",
       " 'now',\n",
       " 'd',\n",
       " 'll',\n",
       " 'm',\n",
       " 'o',\n",
       " 're',\n",
       " 've',\n",
       " 'y',\n",
       " 'ain',\n",
       " 'aren',\n",
       " \"aren't\",\n",
       " 'couldn',\n",
       " \"couldn't\",\n",
       " 'didn',\n",
       " \"didn't\",\n",
       " 'doesn',\n",
       " \"doesn't\",\n",
       " 'hadn',\n",
       " \"hadn't\",\n",
       " 'hasn',\n",
       " \"hasn't\",\n",
       " 'haven',\n",
       " \"haven't\",\n",
       " 'isn',\n",
       " \"isn't\",\n",
       " 'ma',\n",
       " 'mightn',\n",
       " \"mightn't\",\n",
       " 'mustn',\n",
       " \"mustn't\",\n",
       " 'needn',\n",
       " \"needn't\",\n",
       " 'shan',\n",
       " \"shan't\",\n",
       " 'shouldn',\n",
       " \"shouldn't\",\n",
       " 'wasn',\n",
       " \"wasn't\",\n",
       " 'weren',\n",
       " \"weren't\",\n",
       " 'won',\n",
       " \"won't\",\n",
       " 'wouldn',\n",
       " \"wouldn't\"]"
      ]
     },
     "execution_count": 55,
     "metadata": {},
     "output_type": "execute_result"
    }
   ],
   "source": [
    "from nltk.corpus import stopwords\n",
    "s_words=stopwords.words('english')\n",
    "s_words"
   ]
  },
  {
   "cell_type": "code",
   "execution_count": 47,
   "id": "09dc154b",
   "metadata": {},
   "outputs": [],
   "source": [
    "from nltk.stem import PorterStemmer\n",
    "ps=PorterStemmer()\n",
    "for i in range(len(sentences)):\n",
    "    words=nltk.word_tokenize(sentences[i])\n",
    "    result=[ps.stem(word) for word in words if word.lower() not in s_words]\n",
    "    sentences[i]=\" \" .join(result)\n",
    "\n",
    "\n",
    "    "
   ]
  },
  {
   "cell_type": "code",
   "execution_count": 48,
   "id": "e1927161",
   "metadata": {
    "scrolled": true
   },
   "outputs": [
    {
     "data": {
      "text/plain": [
       "['virat kohli indian cricket wide regard oneof best batsmen gener .',\n",
       " 'born novemb 5 , 1988 , delhi , kohli rose promin aggress play style , consist , leadership qualiti .',\n",
       " 'captain indian cricket team across format , achiev numer record lead india signific victori .',\n",
       " 'known hisintens passion game remark fit , kohli becom global cricket icon inspir aspir cricket around world .']"
      ]
     },
     "execution_count": 48,
     "metadata": {},
     "output_type": "execute_result"
    }
   ],
   "source": [
    "sentences"
   ]
  },
  {
   "cell_type": "markdown",
   "id": "7c759ef4",
   "metadata": {},
   "source": [
    "# SkyBall + stopwords"
   ]
  },
  {
   "cell_type": "code",
   "execution_count": 51,
   "id": "584ad453",
   "metadata": {},
   "outputs": [],
   "source": [
    "from nltk.stem import SnowballStemmer\n",
    "sb=SnowballStemmer(language='english')\n"
   ]
  },
  {
   "cell_type": "code",
   "execution_count": 52,
   "id": "6ded18dc",
   "metadata": {},
   "outputs": [
    {
     "data": {
      "text/plain": [
       "['virat koh indian cricket wide regard oneof best batsmen generat .',\n",
       " 'born novemb 5 , 1988 , delhi , koh rose promin aggress play style , consist , leadership qualiti .',\n",
       " 'captain indian cricket team across format , achiev numer record lead india signific victori .',\n",
       " 'known hisintens passion game remark fit , koh becom global cricket icon inspir aspir cricket around world .']"
      ]
     },
     "execution_count": 52,
     "metadata": {},
     "output_type": "execute_result"
    }
   ],
   "source": [
    "for i in range(len(sentences)):\n",
    "    words = nltk.word_tokenize(sentences[i])\n",
    "    result=[sb.stem(word) for word in words if word.lower() not in s_words]\n",
    "    sentences[i]=\" \".join(result)\n",
    "    \n",
    "sentences"
   ]
  },
  {
   "cell_type": "markdown",
   "id": "2d45aeee",
   "metadata": {},
   "source": [
    "# Lemmatizations + Stopwords"
   ]
  },
  {
   "cell_type": "code",
   "execution_count": 56,
   "id": "a8e4f6e1",
   "metadata": {},
   "outputs": [
    {
     "data": {
      "text/plain": [
       "['Virat Kohli Indian cricketer widely regarded oneof best batsman generation .',\n",
       " 'Born November 5 , 1988 , Delhi , Kohli rose prominence aggressive playing style , consistency , leadership quality .',\n",
       " 'captained Indian cricket team across format , achieving numerous record leading India significant victory .',\n",
       " 'Known hisintense passion game remarkable fitness , Kohli become global cricket icon inspiration aspiring cricketer around world .']"
      ]
     },
     "execution_count": 56,
     "metadata": {},
     "output_type": "execute_result"
    }
   ],
   "source": [
    "from nltk.stem import WordNetLemmatizer\n",
    "wns=WordNetLemmatizer()\n",
    "for i in range(len(sentences)):\n",
    "    words = nltk.word_tokenize(sentences[i])\n",
    "    result=[wns.lemmatize(word) for word in words if word.lower() not in s_words]\n",
    "    sentences[i]=\" \".join(result)\n",
    "    \n",
    "sentences"
   ]
  },
  {
   "cell_type": "code",
   "execution_count": null,
   "id": "90109d53",
   "metadata": {},
   "outputs": [],
   "source": []
  }
 ],
 "metadata": {
  "kernelspec": {
   "display_name": "Python 3 (ipykernel)",
   "language": "python",
   "name": "python3"
  },
  "language_info": {
   "codemirror_mode": {
    "name": "ipython",
    "version": 3
   },
   "file_extension": ".py",
   "mimetype": "text/x-python",
   "name": "python",
   "nbconvert_exporter": "python",
   "pygments_lexer": "ipython3",
   "version": "3.9.12"
  }
 },
 "nbformat": 4,
 "nbformat_minor": 5
}
