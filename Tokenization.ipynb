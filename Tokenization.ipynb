{
 "cells": [
  {
   "cell_type": "code",
   "execution_count": 1,
   "id": "8202ec9a",
   "metadata": {},
   "outputs": [
    {
     "name": "stdout",
     "output_type": "stream",
     "text": [
      "Defaulting to user installation because normal site-packages is not writeable\n",
      "Requirement already satisfied: nltk in c:\\programdata\\anaconda3\\lib\\site-packages (3.7)\n",
      "Requirement already satisfied: joblib in c:\\programdata\\anaconda3\\lib\\site-packages (from nltk) (1.1.0)\n",
      "Requirement already satisfied: regex>=2021.8.3 in c:\\programdata\\anaconda3\\lib\\site-packages (from nltk) (2022.3.15)\n",
      "Requirement already satisfied: click in c:\\programdata\\anaconda3\\lib\\site-packages (from nltk) (8.0.4)\n",
      "Requirement already satisfied: tqdm in c:\\programdata\\anaconda3\\lib\\site-packages (from nltk) (4.64.0)\n",
      "Requirement already satisfied: colorama in c:\\programdata\\anaconda3\\lib\\site-packages (from click->nltk) (0.4.4)\n",
      "Note: you may need to restart the kernel to use updated packages.\n"
     ]
    }
   ],
   "source": [
    "pip install nltk"
   ]
  },
  {
   "cell_type": "code",
   "execution_count": 4,
   "id": "7d8e10bd",
   "metadata": {},
   "outputs": [
    {
     "name": "stdout",
     "output_type": "stream",
     "text": [
      "Natural Language Processing (NLP) is a fascinating field that combines linguistics, computer science,\n",
      "and artificial intelligence to enable machines to understand and interpret human language. By using techniques like \n",
      "tokenization, stemming, and parsing, NLP applications can perform tasks ranging from simple text classification to complex \n",
      "machine translation. As the demand for intelligent systems grows, \n",
      "the role of NLP in technology becomes increasingly vital, making it an exciting area for research and development.\n"
     ]
    }
   ],
   "source": [
    "corpus=\"\"\"Natural Language Processing (NLP) is a fascinating field that combines linguistics, computer science,\n",
    "and artificial intelligence to enable machines to understand and interpret human language. By using techniques like \n",
    "tokenization, stemming, and parsing, NLP applications can perform tasks ranging from simple text classification to complex \n",
    "machine translation. As the demand for intelligent systems grows, \n",
    "the role of NLP in technology becomes increasingly vital, making it an exciting area for research and development.\"\"\"\n",
    "print(corpus)"
   ]
  },
  {
   "cell_type": "code",
   "execution_count": 10,
   "id": "b6e8b3bf",
   "metadata": {},
   "outputs": [
    {
     "name": "stdout",
     "output_type": "stream",
     "text": [
      "['Natural Language Processing (NLP) is a fascinating field that combines linguistics, computer science,\\nand artificial intelligence to enable machines to understand and interpret human language.', 'By using techniques like \\ntokenization, stemming, and parsing, NLP applications can perform tasks ranging from simple text classification to complex \\nmachine translation.', 'As the demand for intelligent systems grows, \\nthe role of NLP in technology becomes increasingly vital, making it an exciting area for research and development.']\n"
     ]
    }
   ],
   "source": [
    "from nltk.tokenize import sent_tokenize\n",
    "sentences=sent_tokenize(corpus)\n",
    "print(sentences)"
   ]
  },
  {
   "cell_type": "code",
   "execution_count": 11,
   "id": "349348da",
   "metadata": {},
   "outputs": [
    {
     "name": "stdout",
     "output_type": "stream",
     "text": [
      "Natural Language Processing (NLP) is a fascinating field that combines linguistics, computer science,\n",
      "and artificial intelligence to enable machines to understand and interpret human language.\n",
      "By using techniques like \n",
      "tokenization, stemming, and parsing, NLP applications can perform tasks ranging from simple text classification to complex \n",
      "machine translation.\n",
      "As the demand for intelligent systems grows, \n",
      "the role of NLP in technology becomes increasingly vital, making it an exciting area for research and development.\n"
     ]
    }
   ],
   "source": [
    "for sentence in sentences:\n",
    "    print(sentence)"
   ]
  },
  {
   "cell_type": "code",
   "execution_count": 14,
   "id": "2c20c06b",
   "metadata": {},
   "outputs": [
    {
     "name": "stdout",
     "output_type": "stream",
     "text": [
      "['Natural', 'Language', 'Processing', '(', 'NLP', ')', 'is', 'a', 'fascinating', 'field', 'that', 'combines', 'linguistics', ',', 'computer', 'science', ',', 'and', 'artificial', 'intelligence', 'to', 'enable', 'machines', 'to', 'understand', 'and', 'interpret', 'human', 'language', '.', 'By', 'using', 'techniques', 'like', 'tokenization', ',', 'stemming', ',', 'and', 'parsing', ',', 'NLP', 'applications', 'can', 'perform', 'tasks', 'ranging', 'from', 'simple', 'text', 'classification', 'to', 'complex', 'machine', 'translation', '.', 'As', 'the', 'demand', 'for', 'intelligent', 'systems', 'grows', ',', 'the', 'role', 'of', 'NLP', 'in', 'technology', 'becomes', 'increasingly', 'vital', ',', 'making', 'it', 'an', 'exciting', 'area', 'for', 'research', 'and', 'development', '.']\n"
     ]
    }
   ],
   "source": [
    "from nltk.tokenize import word_tokenize\n",
    "words=word_tokenize(corpus)\n",
    "print(words)"
   ]
  },
  {
   "cell_type": "code",
   "execution_count": 13,
   "id": "062bef3f",
   "metadata": {},
   "outputs": [
    {
     "name": "stdout",
     "output_type": "stream",
     "text": [
      "Natural\n",
      "Language\n",
      "Processing\n",
      "(\n",
      "NLP\n",
      ")\n",
      "is\n",
      "a\n",
      "fascinating\n",
      "field\n",
      "that\n",
      "combines\n",
      "linguistics\n",
      ",\n",
      "computer\n",
      "science\n",
      ",\n",
      "and\n",
      "artificial\n",
      "intelligence\n",
      "to\n",
      "enable\n",
      "machines\n",
      "to\n",
      "understand\n",
      "and\n",
      "interpret\n",
      "human\n",
      "language\n",
      ".\n",
      "By\n",
      "using\n",
      "techniques\n",
      "like\n",
      "tokenization\n",
      ",\n",
      "stemming\n",
      ",\n",
      "and\n",
      "parsing\n",
      ",\n",
      "NLP\n",
      "applications\n",
      "can\n",
      "perform\n",
      "tasks\n",
      "ranging\n",
      "from\n",
      "simple\n",
      "text\n",
      "classification\n",
      "to\n",
      "complex\n",
      "machine\n",
      "translation\n",
      ".\n",
      "As\n",
      "the\n",
      "demand\n",
      "for\n",
      "intelligent\n",
      "systems\n",
      "grows\n",
      ",\n",
      "the\n",
      "role\n",
      "of\n",
      "NLP\n",
      "in\n",
      "technology\n",
      "becomes\n",
      "increasingly\n",
      "vital\n",
      ",\n",
      "making\n",
      "it\n",
      "an\n",
      "exciting\n",
      "area\n",
      "for\n",
      "research\n",
      "and\n",
      "development\n",
      ".\n"
     ]
    }
   ],
   "source": [
    "for word in words:\n",
    "    print(word)"
   ]
  },
  {
   "cell_type": "code",
   "execution_count": 25,
   "id": "bc583c7f",
   "metadata": {},
   "outputs": [
    {
     "name": "stdout",
     "output_type": "stream",
     "text": [
      "['Natural', 'Language', 'Processing', '(', 'NLP', ')', 'is', 'a', 'fascinating', 'field', 'that', 'combines', 'linguistics', ',', 'computer', 'science', ',', 'and', 'artificial', 'intelligence', 'to', 'enable', 'machines', 'to', 'understand', 'and', 'interpret', 'human', 'language', '.', 'By', 'using', 'techniques', 'like', 'tokenization', ',', 'stemming', ',', 'and', 'parsing', ',', 'NLP', 'applications', 'can', 'perform', 'tasks', 'ranging', 'from', 'simple', 'text', 'classification', 'to', 'complex', 'machine', 'translation', '.', 'As', 'the', 'demand', 'for', 'intelligent', 'systems', 'grows', ',', 'the', 'role', 'of', 'NLP', 'in', 'technology', 'becomes', 'increasingly', 'vital', ',', 'making', 'it', 'an', 'exciting', 'area', 'for', 'research', 'and', 'development', '.']\n"
     ]
    }
   ],
   "source": [
    "from nltk.tokenize import WordPunctTokenizer\n",
    "corpus=\"\"\"Natural Language Processing (NLP) is a fascinating field that combines linguistics, computer science,\n",
    "and artificial intelligence to enable machines to understand and interpret human language. By using techniques like \n",
    "tokenization, stemming, and parsing, NLP applications can perform tasks ranging from simple text classification to complex \n",
    "machine translation. As the demand for intelligent systems grows, \n",
    "the role of NLP in technology becomes increasingly vital, making it an exciting area for research and development.\"\"\"\n",
    "tokenizer = WordPunctTokenizer()\n",
    "\n",
    "# Tokenize the corpus\n",
    "words = tokenizer.tokenize(corpus)\n",
    "\n",
    "# Output the tokens\n",
    "print(words)"
   ]
  },
  {
   "cell_type": "code",
   "execution_count": null,
   "id": "8382263d",
   "metadata": {},
   "outputs": [],
   "source": []
  }
 ],
 "metadata": {
  "kernelspec": {
   "display_name": "Python 3 (ipykernel)",
   "language": "python",
   "name": "python3"
  },
  "language_info": {
   "codemirror_mode": {
    "name": "ipython",
    "version": 3
   },
   "file_extension": ".py",
   "mimetype": "text/x-python",
   "name": "python",
   "nbconvert_exporter": "python",
   "pygments_lexer": "ipython3",
   "version": "3.9.12"
  }
 },
 "nbformat": 4,
 "nbformat_minor": 5
}
